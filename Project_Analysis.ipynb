{
 "cells": [
  {
   "cell_type": "markdown",
   "id": "73bc9548",
   "metadata": {},
   "source": [
    "# Analysis of IMDB Data"
   ]
  },
  {
   "cell_type": "markdown",
   "id": "a38f770b-e32d-4cce-9da9-73b886db0fc7",
   "metadata": {
    "execution": {
     "iopub.execute_input": "2024-05-13T19:21:49.739942Z",
     "iopub.status.busy": "2024-05-13T19:21:49.739632Z",
     "iopub.status.idle": "2024-05-13T19:21:49.779823Z",
     "shell.execute_reply": "2024-05-13T19:21:49.778151Z",
     "shell.execute_reply.started": "2024-05-13T19:21:49.739915Z"
    }
   },
   "source": [
    "### Christopher Zaman"
   ]
  },
  {
   "cell_type": "markdown",
   "id": "7679c0c0",
   "metadata": {},
   "source": [
    "We will analyze a subset of IMDB's actors, genres, movie actors, and movie ratings data. This dataset comes to us from Kaggle (https://www.kaggle.com/datasets/ashirwadsangwan/imdb-dataset) although we have taken steps to pull this data into a public S3 bucket: \n",
    "\n",
    "* s3://cis9760-lecture9-movieanalysis/name.basics.new.tsv ---> Name Basics\n",
    "* s3://cis9760-lecture9-movieanalysis/title.basic.new.tsv ---> Title Basics\n",
    "* s3://cis9760-lecture9-movieanalysis/title.principles.new.tsv ---> Title Principles\n",
    "* s3://cis9760-lecture9-movieanalysis/title.ratings.new.tsv ---> Title Ratings"
   ]
  },
  {
   "cell_type": "markdown",
   "id": "c1dde3fb",
   "metadata": {},
   "source": [
    "# Content\n",
    "\n",
    "**<br />name.basics.tsv.gz – Contains the following information for names:**\n",
    "<br />nconst (string) - alphanumeric unique identifier of the name/person.\n",
    "<br />primaryName (string)– name by which the person is most often credited.\n",
    "<br />birthYear – in YYYY format.\n",
    "<br />deathYear – in YYYY format if applicable, else .\n",
    "<br />primaryProfession (array of strings)– the top-3 professions of the person.\n",
    "<br />knownForTitles (array of tconsts) – titles the person is known for.\n",
    "<br/><br/>\n",
    "**<br />title.basics.tsv.gz - Contains the following information for titles:**\n",
    "<br />tconst (string) - alphanumeric unique identifier of the title.\n",
    "<br />titleType (string) – the type/format of the title (e.g. movie, short, tvseries, tvepisode, video, etc).\n",
    "<br />primaryTitle (string) – the more popular title / the title used by the filmmakers on promotional materials at the point of release.\n",
    "<br />originalTitle (string) - original title, in the original language.\n",
    "<br />isAdult (boolean) - 0: non-adult title; 1: adult title.\n",
    "<br />startYear (YYYY) – represents the release year of a title. In the case of TV Series, it is the series start year.\n",
    "<br />endYear (YYYY) – TV Series end year. for all other title types.\n",
    "<br />runtimeMinutes – primary runtime of the title, in minutes.\n",
    "<br />genres (string array) – includes up to three genres associated with the title.\n",
    "<br/><br/>\n",
    "**<br />title.principals.tsv – Contains the principal cast/crew for titles:**\n",
    "<br />tconst (string) - alphanumeric unique identifier of the title.\n",
    "<br />ordering (integer) – a number to uniquely identify rows for a given titleId.\n",
    "<br />nconst (string) - alphanumeric unique identifier of the name/person.\n",
    "<br />category (string) - the category of job that person was in.\n",
    "<br />job (string) - the specific job title if applicable, else.\n",
    "<br />characters (string) - the name of the character played if applicable, else.\n",
    "<br/><br/>\n",
    "**<br />title.ratings.tsv.gz – Contains the IMDb rating and votes information for titles:**\n",
    "<br />tconst (string) - alphanumeric unique identifier of the title.\n",
    "<br />averageRating – weighted average of all the individual user ratings.\n",
    "<br />numVotes - number of votes the title has received."
   ]
  },
  {
   "cell_type": "markdown",
   "id": "08416e6e",
   "metadata": {},
   "source": [
    "# PART 1 - Installation and Initial Setup"
   ]
  },
  {
   "cell_type": "markdown",
   "id": "04b07b9f",
   "metadata": {},
   "source": [
    "Begin by installing the necessary libraries that you may need to conduct your analysis. At the very least, you must install pandas and matplotlib"
   ]
  },
  {
   "cell_type": "code",
   "execution_count": 1,
   "id": "0c8b0667",
   "metadata": {
    "execution": {
     "iopub.execute_input": "2024-05-13T17:58:15.305015Z",
     "iopub.status.busy": "2024-05-13T17:58:15.304658Z",
     "iopub.status.idle": "2024-05-13T17:58:15.322446Z",
     "shell.execute_reply": "2024-05-13T17:58:15.321745Z",
     "shell.execute_reply.started": "2024-05-13T17:58:15.304981Z"
    },
    "tags": []
   },
   "outputs": [
    {
     "data": {
      "text/html": [
       "Current session configs: <tt>{'proxyUser': 'user_EMR-User-2', 'conf': {'spark.pyspark.python': 'python3', 'spark.pyspark.virtualenv.enabled': 'true', 'spark.pyspark.virtualenv.type': 'native', 'spark.pyspark.virtualenv.bin.path': '/usr/bin/virtualenv'}, 'kind': 'pyspark'}</tt><br>"
      ],
      "text/plain": [
       "<IPython.core.display.HTML object>"
      ]
     },
     "metadata": {},
     "output_type": "display_data"
    },
    {
     "data": {
      "text/html": [
       "No active sessions."
      ],
      "text/plain": [
       "<IPython.core.display.HTML object>"
      ]
     },
     "metadata": {},
     "output_type": "display_data"
    }
   ],
   "source": [
    "%%info"
   ]
  },
  {
   "cell_type": "markdown",
   "id": "1fc39c6b",
   "metadata": {},
   "source": [
    "Let's install the necessary packages here"
   ]
  },
  {
   "cell_type": "code",
   "execution_count": 2,
   "id": "e0a576cf",
   "metadata": {
    "execution": {
     "iopub.execute_input": "2024-05-13T17:58:15.336416Z",
     "iopub.status.busy": "2024-05-13T17:58:15.336195Z",
     "iopub.status.idle": "2024-05-13T17:59:03.276264Z",
     "shell.execute_reply": "2024-05-13T17:59:03.275523Z",
     "shell.execute_reply.started": "2024-05-13T17:58:15.336393Z"
    },
    "tags": []
   },
   "outputs": [
    {
     "data": {
      "application/vnd.jupyter.widget-view+json": {
       "model_id": "e651594a336a4b5899aeaccd59061930",
       "version_major": 2,
       "version_minor": 0
      },
      "text/plain": [
       "VBox()"
      ]
     },
     "metadata": {},
     "output_type": "display_data"
    },
    {
     "name": "stdout",
     "output_type": "stream",
     "text": [
      "Starting Spark application\n"
     ]
    },
    {
     "data": {
      "text/html": [
       "<table>\n<tbody><tr><th>ID</th><th>YARN Application ID</th><th>Kind</th><th>State</th><th>Spark UI</th><th>Driver log</th><th>User</th><th>Current session?</th></tr><tr><td>1</td><td>application_1715618684596_0002</td><td>pyspark</td><td>idle</td><td><a target=\"_blank\" href=\"http://ip-172-31-30-216.us-east-2.compute.internal:20888/proxy/application_1715618684596_0002/\" class=\"emr-proxy-link j-2QBQDDH3HDP32 application_1715618684596_0002\" emr-resource=\"j-2QBQDDH3HDP32\n\" application-id=\"application_1715618684596_0002\">Link</a></td><td><a target=\"_blank\" href=\"http://ip-172-31-18-229.us-east-2.compute.internal:8042/node/containerlogs/container_1715618684596_0002_01_000001/livy\">Link</a></td><td>None</td><td>✔</td></tr></tbody></table>"
      ],
      "text/plain": [
       "<IPython.core.display.HTML object>"
      ]
     },
     "metadata": {},
     "output_type": "display_data"
    },
    {
     "data": {
      "application/vnd.jupyter.widget-view+json": {
       "model_id": "",
       "version_major": 2,
       "version_minor": 0
      },
      "text/plain": [
       "FloatProgress(value=0.0, bar_style='info', description='Progress:', layout=Layout(height='25px', width='50%'),…"
      ]
     },
     "metadata": {},
     "output_type": "display_data"
    },
    {
     "name": "stdout",
     "output_type": "stream",
     "text": [
      "SparkSession available as 'spark'.\n"
     ]
    },
    {
     "data": {
      "application/vnd.jupyter.widget-view+json": {
       "model_id": "",
       "version_major": 2,
       "version_minor": 0
      },
      "text/plain": [
       "FloatProgress(value=0.0, bar_style='info', description='Progress:', layout=Layout(height='25px', width='50%'),…"
      ]
     },
     "metadata": {},
     "output_type": "display_data"
    },
    {
     "name": "stdout",
     "output_type": "stream",
     "text": [
      "Collecting pandas==1.0.5\n",
      "  Downloading pandas-1.0.5-cp37-cp37m-manylinux1_x86_64.whl (10.1 MB)\n",
      "Collecting python-dateutil>=2.6.1\n",
      "  Downloading python_dateutil-2.9.0.post0-py2.py3-none-any.whl (229 kB)\n",
      "Requirement already satisfied: pytz>=2017.2 in /usr/local/lib/python3.7/site-packages (from pandas==1.0.5) (2023.3)\n",
      "Requirement already satisfied: numpy>=1.13.3 in /usr/local/lib64/python3.7/site-packages (from pandas==1.0.5) (1.20.0)\n",
      "Requirement already satisfied: six>=1.5 in /usr/local/lib/python3.7/site-packages (from python-dateutil>=2.6.1->pandas==1.0.5) (1.13.0)\n",
      "Installing collected packages: python-dateutil, pandas\n",
      "Successfully installed pandas-1.0.5 python-dateutil-2.9.0.post0\n",
      "\n",
      "Collecting matplotlib==3.1.1\n",
      "  Downloading matplotlib-3.1.1-cp37-cp37m-manylinux1_x86_64.whl (13.1 MB)\n",
      "Collecting cycler>=0.10\n",
      "  Downloading cycler-0.11.0-py3-none-any.whl (6.4 kB)\n",
      "Collecting pyparsing!=2.0.4,!=2.1.2,!=2.1.6,>=2.0.1\n",
      "  Downloading pyparsing-3.1.2-py3-none-any.whl (103 kB)\n",
      "Requirement already satisfied: numpy>=1.11 in /usr/local/lib64/python3.7/site-packages (from matplotlib==3.1.1) (1.20.0)\n",
      "Requirement already satisfied: python-dateutil>=2.1 in ./tmp/spark-e5c99939-f892-461e-977c-58576b4f30df/lib/python3.7/site-packages (from matplotlib==3.1.1) (2.9.0.post0)\n",
      "Collecting kiwisolver>=1.0.1\n",
      "  Downloading kiwisolver-1.4.5-cp37-cp37m-manylinux_2_5_x86_64.manylinux1_x86_64.whl (1.1 MB)\n",
      "Requirement already satisfied: six>=1.5 in /usr/local/lib/python3.7/site-packages (from python-dateutil>=2.1->matplotlib==3.1.1) (1.13.0)\n",
      "Collecting typing-extensions; python_version < \"3.8\"\n",
      "  Downloading typing_extensions-4.7.1-py3-none-any.whl (33 kB)\n",
      "Installing collected packages: cycler, pyparsing, typing-extensions, kiwisolver, matplotlib\n",
      "Successfully installed cycler-0.11.0 kiwisolver-1.4.5 matplotlib-3.1.1 pyparsing-3.1.2 typing-extensions-4.7.1\n",
      "\n",
      "WARNING: The directory '/home/.cache/pip' or its parent directory is not owned or is not writable by the current user. The cache has been disabled. Check the permissions and owner of that directory. If executing pip with sudo, you may want sudo's -H flag.\n",
      "\n",
      "WARNING: The directory '/home/.cache/pip' or its parent directory is not owned or is not writable by the current user. The cache has been disabled. Check the permissions and owner of that directory. If executing pip with sudo, you may want sudo's -H flag."
     ]
    }
   ],
   "source": [
    "# Install Pandas\n",
    "sc.install_pypi_package(\"pandas==1.0.5\")\n",
    "\n",
    "# Install Matplotlib\n",
    "sc.install_pypi_package(\"matplotlib==3.1.1\")"
   ]
  },
  {
   "cell_type": "code",
   "execution_count": 3,
   "id": "1bb84001-7ea1-4deb-8de5-777101de04c8",
   "metadata": {
    "execution": {
     "iopub.execute_input": "2024-05-13T17:59:03.278119Z",
     "iopub.status.busy": "2024-05-13T17:59:03.277796Z",
     "iopub.status.idle": "2024-05-13T17:59:04.546804Z",
     "shell.execute_reply": "2024-05-13T17:59:04.546050Z",
     "shell.execute_reply.started": "2024-05-13T17:59:03.278083Z"
    },
    "tags": []
   },
   "outputs": [
    {
     "data": {
      "application/vnd.jupyter.widget-view+json": {
       "model_id": "c3960693b712486d870943b7600d8377",
       "version_major": 2,
       "version_minor": 0
      },
      "text/plain": [
       "VBox()"
      ]
     },
     "metadata": {},
     "output_type": "display_data"
    },
    {
     "data": {
      "application/vnd.jupyter.widget-view+json": {
       "model_id": "",
       "version_major": 2,
       "version_minor": 0
      },
      "text/plain": [
       "FloatProgress(value=0.0, bar_style='info', description='Progress:', layout=Layout(height='25px', width='50%'),…"
      ]
     },
     "metadata": {},
     "output_type": "display_data"
    },
    {
     "name": "stdout",
     "output_type": "stream",
     "text": [
      "Package                    Version\n",
      "-------------------------- -----------\n",
      "aws-cfn-bootstrap          2.0\n",
      "beautifulsoup4             4.9.3\n",
      "boto                       2.49.0\n",
      "click                      8.1.7\n",
      "cycler                     0.11.0\n",
      "docutils                   0.14\n",
      "jmespath                   1.0.1\n",
      "joblib                     1.3.2\n",
      "kiwisolver                 1.4.5\n",
      "lockfile                   0.11.0\n",
      "lxml                       4.9.3\n",
      "matplotlib                 3.1.1\n",
      "mysqlclient                1.4.2\n",
      "nltk                       3.8.1\n",
      "nose                       1.3.4\n",
      "numpy                      1.20.0\n",
      "pandas                     1.0.5\n",
      "pip                        20.2.2\n",
      "py-dateutil                2.2\n",
      "pyparsing                  3.1.2\n",
      "pystache                   0.5.4\n",
      "python-daemon              2.2.3\n",
      "python-dateutil            2.9.0.post0\n",
      "python37-sagemaker-pyspark 1.4.2\n",
      "pytz                       2023.3\n",
      "PyYAML                     5.4.1\n",
      "regex                      2021.11.10\n",
      "setuptools                 28.8.0\n",
      "simplejson                 3.2.0\n",
      "six                        1.13.0\n",
      "tqdm                       4.66.1\n",
      "typing-extensions          4.7.1\n",
      "wheel                      0.29.0\n",
      "windmill                   1.6\n",
      "\n",
      "WARNING: The directory '/home/.cache/pip' or its parent directory is not owned or is not writable by the current user. The cache has been disabled. Check the permissions and owner of that directory. If executing pip with sudo, you may want sudo's -H flag."
     ]
    }
   ],
   "source": [
    "# Confirm packages in the current Spark Context\n",
    "sc.list_packages()"
   ]
  },
  {
   "cell_type": "markdown",
   "id": "5ab05754",
   "metadata": {},
   "source": [
    "Now, import the installed packages from the previous block below."
   ]
  },
  {
   "cell_type": "code",
   "execution_count": 4,
   "id": "6d0a7012",
   "metadata": {
    "execution": {
     "iopub.execute_input": "2024-05-13T17:59:04.548498Z",
     "iopub.status.busy": "2024-05-13T17:59:04.548245Z",
     "iopub.status.idle": "2024-05-13T17:59:09.825011Z",
     "shell.execute_reply": "2024-05-13T17:59:09.824202Z",
     "shell.execute_reply.started": "2024-05-13T17:59:04.548474Z"
    },
    "tags": []
   },
   "outputs": [
    {
     "data": {
      "application/vnd.jupyter.widget-view+json": {
       "model_id": "65a753130a894f57a1104563085100f1",
       "version_major": 2,
       "version_minor": 0
      },
      "text/plain": [
       "VBox()"
      ]
     },
     "metadata": {},
     "output_type": "display_data"
    },
    {
     "data": {
      "application/vnd.jupyter.widget-view+json": {
       "model_id": "",
       "version_major": 2,
       "version_minor": 0
      },
      "text/plain": [
       "FloatProgress(value=0.0, bar_style='info', description='Progress:', layout=Layout(height='25px', width='50%'),…"
      ]
     },
     "metadata": {},
     "output_type": "display_data"
    }
   ],
   "source": [
    "import pandas as pd\n",
    "import matplotlib.pyplot as plt\n",
    "import numpy as np"
   ]
  },
  {
   "cell_type": "markdown",
   "id": "2ccf8642-78a9-48a1-87cb-9fc70cdfcecf",
   "metadata": {
    "execution": {
     "iopub.execute_input": "2024-05-10T17:40:14.525913Z",
     "iopub.status.busy": "2024-05-10T17:40:14.525577Z",
     "iopub.status.idle": "2024-05-10T17:40:14.573743Z",
     "shell.execute_reply": "2024-05-10T17:40:14.572892Z",
     "shell.execute_reply.started": "2024-05-10T17:40:14.525877Z"
    },
    "tags": []
   },
   "source": [
    "# Loading Data"
   ]
  },
  {
   "cell_type": "markdown",
   "id": "b4356189",
   "metadata": {},
   "source": [
    "Load all data from S3 into a Spark dataframe object "
   ]
  },
  {
   "cell_type": "code",
   "execution_count": 5,
   "id": "24beddd1",
   "metadata": {
    "execution": {
     "iopub.execute_input": "2024-05-13T17:59:09.826625Z",
     "iopub.status.busy": "2024-05-13T17:59:09.826394Z",
     "iopub.status.idle": "2024-05-13T17:59:19.121742Z",
     "shell.execute_reply": "2024-05-13T17:59:19.121040Z",
     "shell.execute_reply.started": "2024-05-13T17:59:09.826602Z"
    },
    "tags": []
   },
   "outputs": [
    {
     "data": {
      "application/vnd.jupyter.widget-view+json": {
       "model_id": "5cdec23944c647389cfda3ae296962c1",
       "version_major": 2,
       "version_minor": 0
      },
      "text/plain": [
       "VBox()"
      ]
     },
     "metadata": {},
     "output_type": "display_data"
    },
    {
     "data": {
      "application/vnd.jupyter.widget-view+json": {
       "model_id": "",
       "version_major": 2,
       "version_minor": 0
      },
      "text/plain": [
       "FloatProgress(value=0.0, bar_style='info', description='Progress:', layout=Layout(height='25px', width='50%'),…"
      ]
     },
     "metadata": {},
     "output_type": "display_data"
    }
   ],
   "source": [
    "# Loading Data\n",
    "name = spark.read.csv('s3://cis9760-lecture9-movieanalysis/name.basics.new.tsv', sep='\\t', header=True)\n",
    "title = spark.read.csv(\"s3://cis9760-lecture9-movieanalysis/title.basic.new.tsv\", sep='\\t', header=True)\n",
    "principle = spark.read.csv(\"s3://cis9760-lecture9-movieanalysis/title.principles.new.tsv\", sep='\\t', header=True)\n",
    "rating = spark.read.csv(\"s3://cis9760-lecture9-movieanalysis/title.ratings.new.tsv\", sep='\\t', header=True)"
   ]
  },
  {
   "cell_type": "markdown",
   "id": "c65401c7",
   "metadata": {},
   "source": [
    "## Name Basics"
   ]
  },
  {
   "cell_type": "markdown",
   "id": "03981851",
   "metadata": {},
   "source": [
    "Display the schema below:"
   ]
  },
  {
   "cell_type": "code",
   "execution_count": 6,
   "id": "98b95e51",
   "metadata": {
    "execution": {
     "iopub.execute_input": "2024-05-13T17:59:19.122939Z",
     "iopub.status.busy": "2024-05-13T17:59:19.122702Z",
     "iopub.status.idle": "2024-05-13T17:59:19.372682Z",
     "shell.execute_reply": "2024-05-13T17:59:19.371956Z",
     "shell.execute_reply.started": "2024-05-13T17:59:19.122916Z"
    },
    "tags": []
   },
   "outputs": [
    {
     "data": {
      "application/vnd.jupyter.widget-view+json": {
       "model_id": "d83cfd0b6111426a905d3a842bf223cf",
       "version_major": 2,
       "version_minor": 0
      },
      "text/plain": [
       "VBox()"
      ]
     },
     "metadata": {},
     "output_type": "display_data"
    },
    {
     "data": {
      "application/vnd.jupyter.widget-view+json": {
       "model_id": "",
       "version_major": 2,
       "version_minor": 0
      },
      "text/plain": [
       "FloatProgress(value=0.0, bar_style='info', description='Progress:', layout=Layout(height='25px', width='50%'),…"
      ]
     },
     "metadata": {},
     "output_type": "display_data"
    },
    {
     "name": "stdout",
     "output_type": "stream",
     "text": [
      "root\n",
      " |-- nconst: string (nullable = true)\n",
      " |-- primaryName: string (nullable = true)\n",
      " |-- birthYear: string (nullable = true)\n",
      " |-- deathYear: string (nullable = true)\n",
      " |-- primaryProfession: string (nullable = true)\n",
      " |-- knownForTitles: string (nullable = true)"
     ]
    }
   ],
   "source": [
    "name.printSchema()"
   ]
  },
  {
   "cell_type": "markdown",
   "id": "dfd8a219",
   "metadata": {},
   "source": [
    "Display the first 8 rows with the following columns:\n",
    "\n",
    "* `primaryName`\n",
    "* `primaryProfession`\n",
    "* `knownForTitles`"
   ]
  },
  {
   "cell_type": "code",
   "execution_count": 7,
   "id": "65238eb4-88c5-4679-8d7e-92e950168a73",
   "metadata": {
    "execution": {
     "iopub.execute_input": "2024-05-13T17:59:19.374057Z",
     "iopub.status.busy": "2024-05-13T17:59:19.373697Z",
     "iopub.status.idle": "2024-05-13T17:59:20.126117Z",
     "shell.execute_reply": "2024-05-13T17:59:20.125291Z",
     "shell.execute_reply.started": "2024-05-13T17:59:19.374030Z"
    },
    "tags": []
   },
   "outputs": [
    {
     "data": {
      "application/vnd.jupyter.widget-view+json": {
       "model_id": "cb2fd05b02d743f8b5b86afb25a13b71",
       "version_major": 2,
       "version_minor": 0
      },
      "text/plain": [
       "VBox()"
      ]
     },
     "metadata": {},
     "output_type": "display_data"
    },
    {
     "data": {
      "application/vnd.jupyter.widget-view+json": {
       "model_id": "",
       "version_major": 2,
       "version_minor": 0
      },
      "text/plain": [
       "FloatProgress(value=0.0, bar_style='info', description='Progress:', layout=Layout(height='25px', width='50%'),…"
      ]
     },
     "metadata": {},
     "output_type": "display_data"
    },
    {
     "name": "stdout",
     "output_type": "stream",
     "text": [
      "+---------------+-----------------------------------+---------------------------------------+\n",
      "|primaryName    |primaryProfession                  |knownForTitles                         |\n",
      "+---------------+-----------------------------------+---------------------------------------+\n",
      "|Fred Astaire   |soundtrack,actor,miscellaneous     |tt0027125,tt0050419,tt0053137,tt0072308|\n",
      "|Lauren Bacall  |actress,soundtrack                 |tt0075213,tt0117057,tt0038355,tt0037382|\n",
      "|Brigitte Bardot|actress,soundtrack,music_department|tt0049189,tt0054452,tt0056404,tt0057345|\n",
      "|John Belushi   |actor,soundtrack,writer            |tt0077975,tt0078723,tt0080455,tt0072562|\n",
      "|Ingmar Bergman |writer,director,actor              |tt0050986,tt0069467,tt0083922,tt0050976|\n",
      "|Ingrid Bergman |actress,soundtrack,producer        |tt0034583,tt0038787,tt0038109,tt0036855|\n",
      "|Humphrey Bogart|actor,soundtrack,producer          |tt0043265,tt0042593,tt0037382,tt0034583|\n",
      "|Marlon Brando  |actor,soundtrack,director          |tt0070849,tt0047296,tt0068646,tt0078788|\n",
      "+---------------+-----------------------------------+---------------------------------------+\n",
      "only showing top 8 rows"
     ]
    }
   ],
   "source": [
    "show_top_eight_rows = name.select(\"primaryName\",\"primaryProfession\",\"knownForTitles\")\n",
    "show_top_eight_rows.show(8,truncate=False)"
   ]
  },
  {
   "cell_type": "markdown",
   "id": "65371453",
   "metadata": {},
   "source": [
    "## Title Basics"
   ]
  },
  {
   "cell_type": "markdown",
   "id": "b95d8c5a",
   "metadata": {},
   "source": [
    "Display the first 13 rows with the following columns:\n",
    "    \n",
    "* `titleType`\n",
    "* `primaryTitle`\n",
    "* `genres`"
   ]
  },
  {
   "cell_type": "code",
   "execution_count": 8,
   "id": "19cae390-2329-475e-8c73-ebc0e0d841df",
   "metadata": {
    "execution": {
     "iopub.execute_input": "2024-05-13T17:59:20.127709Z",
     "iopub.status.busy": "2024-05-13T17:59:20.127375Z",
     "iopub.status.idle": "2024-05-13T17:59:20.383270Z",
     "shell.execute_reply": "2024-05-13T17:59:20.382396Z",
     "shell.execute_reply.started": "2024-05-13T17:59:20.127673Z"
    },
    "tags": []
   },
   "outputs": [
    {
     "data": {
      "application/vnd.jupyter.widget-view+json": {
       "model_id": "0643567badaf48988b41169a26d0bb1d",
       "version_major": 2,
       "version_minor": 0
      },
      "text/plain": [
       "VBox()"
      ]
     },
     "metadata": {},
     "output_type": "display_data"
    },
    {
     "data": {
      "application/vnd.jupyter.widget-view+json": {
       "model_id": "",
       "version_major": 2,
       "version_minor": 0
      },
      "text/plain": [
       "FloatProgress(value=0.0, bar_style='info', description='Progress:', layout=Layout(height='25px', width='50%'),…"
      ]
     },
     "metadata": {},
     "output_type": "display_data"
    },
    {
     "name": "stdout",
     "output_type": "stream",
     "text": [
      "+---------+-------------------------------------------+------------------------+\n",
      "|titleType|primaryTitle                               |genres                  |\n",
      "+---------+-------------------------------------------+------------------------+\n",
      "|short    |Carmencita                                 |Documentary,Short       |\n",
      "|short    |Le clown et ses chiens                     |Animation,Short         |\n",
      "|short    |Pauvre Pierrot                             |Animation,Comedy,Romance|\n",
      "|short    |Un bon bock                                |Animation,Short         |\n",
      "|short    |Blacksmith Scene                           |Comedy,Short            |\n",
      "|short    |Chinese Opium Den                          |Short                   |\n",
      "|short    |Corbett and Courtney Before the Kinetograph|Short,Sport             |\n",
      "|short    |Edison Kinetoscopic Record of a Sneeze     |Documentary,Short       |\n",
      "|movie    |Miss Jerry                                 |Romance                 |\n",
      "|short    |Leaving the Factory                        |Documentary,Short       |\n",
      "|short    |Akrobatisches Potpourri                    |Documentary,Short       |\n",
      "|short    |The Arrival of a Train                     |Documentary,Short       |\n",
      "|short    |The Photographical Congress Arrives in Lyon|Documentary,Short       |\n",
      "+---------+-------------------------------------------+------------------------+\n",
      "only showing top 13 rows"
     ]
    }
   ],
   "source": [
    "show_top_thirteen_rows_title = title.select(\"titleType\", \"primaryTitle\", \"genres\")\n",
    "show_top_thirteen_rows_title.show(13, truncate=False)"
   ]
  },
  {
   "cell_type": "markdown",
   "id": "f3852bb4",
   "metadata": {},
   "source": [
    "Display the unique title types below:"
   ]
  },
  {
   "cell_type": "code",
   "execution_count": 9,
   "id": "efe36945-bc2d-47f5-81eb-86002ca1f8ab",
   "metadata": {
    "execution": {
     "iopub.execute_input": "2024-05-13T17:59:20.385854Z",
     "iopub.status.busy": "2024-05-13T17:59:20.385617Z",
     "iopub.status.idle": "2024-05-13T17:59:33.687096Z",
     "shell.execute_reply": "2024-05-13T17:59:33.686393Z",
     "shell.execute_reply.started": "2024-05-13T17:59:20.385831Z"
    },
    "tags": []
   },
   "outputs": [
    {
     "data": {
      "application/vnd.jupyter.widget-view+json": {
       "model_id": "296e48808a8b4eb7a4e3e7afba2195f6",
       "version_major": 2,
       "version_minor": 0
      },
      "text/plain": [
       "VBox()"
      ]
     },
     "metadata": {},
     "output_type": "display_data"
    },
    {
     "data": {
      "application/vnd.jupyter.widget-view+json": {
       "model_id": "",
       "version_major": 2,
       "version_minor": 0
      },
      "text/plain": [
       "FloatProgress(value=0.0, bar_style='info', description='Progress:', layout=Layout(height='25px', width='50%'),…"
      ]
     },
     "metadata": {},
     "output_type": "display_data"
    },
    {
     "name": "stdout",
     "output_type": "stream",
     "text": [
      "+------------+\n",
      "|titleType   |\n",
      "+------------+\n",
      "|tvSeries    |\n",
      "|tvMiniSeries|\n",
      "|movie       |\n",
      "|videoGame   |\n",
      "|tvSpecial   |\n",
      "|video       |\n",
      "|tvMovie     |\n",
      "|tvEpisode   |\n",
      "|tvShort     |\n",
      "|short       |\n",
      "|tvPilot     |\n",
      "+------------+"
     ]
    }
   ],
   "source": [
    "display_unique_title_types = title.select(\"titleType\").distinct()\n",
    "display_unique_title_types.show(truncate=False)"
   ]
  },
  {
   "cell_type": "markdown",
   "id": "d8f3c92f",
   "metadata": {},
   "source": [
    "Display the schema below:"
   ]
  },
  {
   "cell_type": "code",
   "execution_count": 10,
   "id": "d2f12f2e-8f13-4b13-ac3d-095f7ce3b6f9",
   "metadata": {
    "execution": {
     "iopub.execute_input": "2024-05-13T17:59:33.688831Z",
     "iopub.status.busy": "2024-05-13T17:59:33.688606Z",
     "iopub.status.idle": "2024-05-13T17:59:33.747119Z",
     "shell.execute_reply": "2024-05-13T17:59:33.746029Z",
     "shell.execute_reply.started": "2024-05-13T17:59:33.688808Z"
    },
    "tags": []
   },
   "outputs": [
    {
     "data": {
      "application/vnd.jupyter.widget-view+json": {
       "model_id": "a6ad67372b154ee2b20b0afe587ccf33",
       "version_major": 2,
       "version_minor": 0
      },
      "text/plain": [
       "VBox()"
      ]
     },
     "metadata": {},
     "output_type": "display_data"
    },
    {
     "data": {
      "application/vnd.jupyter.widget-view+json": {
       "model_id": "",
       "version_major": 2,
       "version_minor": 0
      },
      "text/plain": [
       "FloatProgress(value=0.0, bar_style='info', description='Progress:', layout=Layout(height='25px', width='50%'),…"
      ]
     },
     "metadata": {},
     "output_type": "display_data"
    },
    {
     "name": "stdout",
     "output_type": "stream",
     "text": [
      "root\n",
      " |-- tconst: string (nullable = true)\n",
      " |-- titleType: string (nullable = true)\n",
      " |-- primaryTitle: string (nullable = true)\n",
      " |-- originalTitle: string (nullable = true)\n",
      " |-- isAdult: string (nullable = true)\n",
      " |-- startYear: string (nullable = true)\n",
      " |-- endYear: string (nullable = true)\n",
      " |-- runtimeMinutes: string (nullable = true)\n",
      " |-- genres: string (nullable = true)"
     ]
    }
   ],
   "source": [
    "title.printSchema()"
   ]
  },
  {
   "cell_type": "markdown",
   "id": "4472d6ef-ddc2-4211-a29a-a5f408950963",
   "metadata": {},
   "source": [
    "Remove the 'originalTitle' from the dataframe and display the schema to verify it."
   ]
  },
  {
   "cell_type": "code",
   "execution_count": 11,
   "id": "4125963d-9058-466e-90e5-48687e94d8fa",
   "metadata": {
    "execution": {
     "iopub.execute_input": "2024-05-13T17:59:33.749217Z",
     "iopub.status.busy": "2024-05-13T17:59:33.748769Z",
     "iopub.status.idle": "2024-05-13T17:59:34.000343Z",
     "shell.execute_reply": "2024-05-13T17:59:33.999500Z",
     "shell.execute_reply.started": "2024-05-13T17:59:33.749172Z"
    },
    "tags": []
   },
   "outputs": [
    {
     "data": {
      "application/vnd.jupyter.widget-view+json": {
       "model_id": "574876705da644bd820d8cb39fb6b86e",
       "version_major": 2,
       "version_minor": 0
      },
      "text/plain": [
       "VBox()"
      ]
     },
     "metadata": {},
     "output_type": "display_data"
    },
    {
     "data": {
      "application/vnd.jupyter.widget-view+json": {
       "model_id": "",
       "version_major": 2,
       "version_minor": 0
      },
      "text/plain": [
       "FloatProgress(value=0.0, bar_style='info', description='Progress:', layout=Layout(height='25px', width='50%'),…"
      ]
     },
     "metadata": {},
     "output_type": "display_data"
    },
    {
     "name": "stdout",
     "output_type": "stream",
     "text": [
      "root\n",
      " |-- tconst: string (nullable = true)\n",
      " |-- titleType: string (nullable = true)\n",
      " |-- primaryTitle: string (nullable = true)\n",
      " |-- isAdult: string (nullable = true)\n",
      " |-- startYear: string (nullable = true)\n",
      " |-- endYear: string (nullable = true)\n",
      " |-- runtimeMinutes: string (nullable = true)\n",
      " |-- genres: string (nullable = true)"
     ]
    }
   ],
   "source": [
    "title = title.drop(\"originalTitle\")\n",
    "title.printSchema()"
   ]
  },
  {
   "cell_type": "markdown",
   "id": "bf21e1b7",
   "metadata": {},
   "source": [
    "## Title Principles"
   ]
  },
  {
   "cell_type": "markdown",
   "id": "442830b8",
   "metadata": {},
   "source": [
    "Display the schema below:"
   ]
  },
  {
   "cell_type": "code",
   "execution_count": 12,
   "id": "37b8655b-b7a6-4207-ad27-72ce09e778f9",
   "metadata": {
    "execution": {
     "iopub.execute_input": "2024-05-13T17:59:34.002017Z",
     "iopub.status.busy": "2024-05-13T17:59:34.001676Z",
     "iopub.status.idle": "2024-05-13T17:59:34.047170Z",
     "shell.execute_reply": "2024-05-13T17:59:34.046517Z",
     "shell.execute_reply.started": "2024-05-13T17:59:34.001980Z"
    },
    "tags": []
   },
   "outputs": [
    {
     "data": {
      "application/vnd.jupyter.widget-view+json": {
       "model_id": "ea8869d969c246a8921679446e4661c4",
       "version_major": 2,
       "version_minor": 0
      },
      "text/plain": [
       "VBox()"
      ]
     },
     "metadata": {},
     "output_type": "display_data"
    },
    {
     "data": {
      "application/vnd.jupyter.widget-view+json": {
       "model_id": "",
       "version_major": 2,
       "version_minor": 0
      },
      "text/plain": [
       "FloatProgress(value=0.0, bar_style='info', description='Progress:', layout=Layout(height='25px', width='50%'),…"
      ]
     },
     "metadata": {},
     "output_type": "display_data"
    },
    {
     "name": "stdout",
     "output_type": "stream",
     "text": [
      "root\n",
      " |-- tconst: string (nullable = true)\n",
      " |-- ordering: string (nullable = true)\n",
      " |-- nconst: string (nullable = true)\n",
      " |-- category: string (nullable = true)\n",
      " |-- job: string (nullable = true)\n",
      " |-- characters: string (nullable = true)"
     ]
    }
   ],
   "source": [
    "principle.printSchema()"
   ]
  },
  {
   "cell_type": "markdown",
   "id": "e24870d3",
   "metadata": {},
   "source": [
    "Display the first 25 rows where the \"category\" column is \"actor\""
   ]
  },
  {
   "cell_type": "code",
   "execution_count": 13,
   "id": "cf8caf62-9354-4b9c-829b-baef7a1f3666",
   "metadata": {
    "execution": {
     "iopub.execute_input": "2024-05-13T17:59:34.048333Z",
     "iopub.status.busy": "2024-05-13T17:59:34.048118Z",
     "iopub.status.idle": "2024-05-13T17:59:34.799437Z",
     "shell.execute_reply": "2024-05-13T17:59:34.798555Z",
     "shell.execute_reply.started": "2024-05-13T17:59:34.048311Z"
    },
    "tags": []
   },
   "outputs": [
    {
     "data": {
      "application/vnd.jupyter.widget-view+json": {
       "model_id": "8864985aa02a4e969d64c6c7b41985ec",
       "version_major": 2,
       "version_minor": 0
      },
      "text/plain": [
       "VBox()"
      ]
     },
     "metadata": {},
     "output_type": "display_data"
    },
    {
     "data": {
      "application/vnd.jupyter.widget-view+json": {
       "model_id": "",
       "version_major": 2,
       "version_minor": 0
      },
      "text/plain": [
       "FloatProgress(value=0.0, bar_style='info', description='Progress:', layout=Layout(height='25px', width='50%'),…"
      ]
     },
     "metadata": {},
     "output_type": "display_data"
    },
    {
     "name": "stdout",
     "output_type": "stream",
     "text": [
      "+---------+--------+---------+--------+---+------------------------------------------------------------------+\n",
      "|tconst   |ordering|nconst   |category|job|characters                                                        |\n",
      "+---------+--------+---------+--------+---+------------------------------------------------------------------+\n",
      "|tt0000005|1       |nm0443482|actor   |\\N |[\"Blacksmith\"]                                                    |\n",
      "|tt0000005|2       |nm0653042|actor   |\\N |[\"Assistant\"]                                                     |\n",
      "|tt0000007|1       |nm0179163|actor   |\\N |\\N                                                                |\n",
      "|tt0000007|2       |nm0183947|actor   |\\N |\\N                                                                |\n",
      "|tt0000008|1       |nm0653028|actor   |\\N |[\"Sneezing Man\"]                                                  |\n",
      "|tt0000009|2       |nm0183823|actor   |\\N |[\"Mr. Hamilton\"]                                                  |\n",
      "|tt0000009|3       |nm1309758|actor   |\\N |[\"Chauncey Depew - the Director of the New York Central Railroad\"]|\n",
      "|tt0000011|1       |nm3692297|actor   |\\N |[\"Acrobats\"]                                                      |\n",
      "|tt0000014|1       |nm0166380|actor   |\\N |[\"The Gardener\"]                                                  |\n",
      "|tt0000014|2       |nm0244989|actor   |\\N |[\"The Boy\"]                                                       |\n",
      "|tt0000017|1       |nm3691272|actor   |\\N |[\"The boy\"]                                                       |\n",
      "|tt0000018|1       |nm3692071|actor   |\\N |[\"The Boxer\"]                                                     |\n",
      "|tt0000026|1       |nm2350007|actor   |\\N |[\"Valet\"]                                                         |\n",
      "|tt0000026|2       |nm0525907|actor   |\\N |[\"Man playing cards, seated on the left\"]                         |\n",
      "|tt0000026|3       |nm1151424|actor   |\\N |[\"Man playing cards, seated on the right\"]                        |\n",
      "|tt0000026|4       |nm2354154|actor   |\\N |[\"Man playing cards, seated in the middle\"]                       |\n",
      "|tt0000036|1       |nm0420198|actor   |\\N |[\"Rip Van Winkle\"]                                                |\n",
      "|tt0000063|1       |nm0617588|actor   |\\N |[\"Georges Méliès\"]                                                |\n",
      "|tt0000064|1       |nm0617588|actor   |\\N |[\"Lightening Sketch Artist\"]                                      |\n",
      "|tt0000065|1       |nm0617588|actor   |\\N |[\"Lightening Sketch Artist\"]                                      |\n",
      "|tt0000066|1       |nm0617588|actor   |\\N |[\"Lightening Sketch Artist\"]                                      |\n",
      "|tt0000070|1       |nm0525908|actor   |\\N |\\N                                                                |\n",
      "|tt0000075|2       |nm0617588|actor   |\\N |[\"Magician\"]                                                      |\n",
      "|tt0000076|1       |nm0420198|actor   |\\N |[\"Rip Van Winkle\"]                                                |\n",
      "|tt0000091|2       |nm6170115|actor   |\\N |[\"Mephistopheles\"]                                                |\n",
      "+---------+--------+---------+--------+---+------------------------------------------------------------------+\n",
      "only showing top 25 rows"
     ]
    }
   ],
   "source": [
    "filter_actor_category = principle.filter(principle.category == \"actor\")\n",
    "filter_actor_category.show(25, truncate=False)"
   ]
  },
  {
   "cell_type": "markdown",
   "id": "d8e128fc",
   "metadata": {},
   "source": [
    "## Title Ratings"
   ]
  },
  {
   "cell_type": "markdown",
   "id": "c40d60cd",
   "metadata": {},
   "source": [
    "Display the schema below:"
   ]
  },
  {
   "cell_type": "code",
   "execution_count": 14,
   "id": "1ccb7735-89b8-4c15-9502-88969a4c494c",
   "metadata": {
    "execution": {
     "iopub.execute_input": "2024-05-13T17:59:34.801051Z",
     "iopub.status.busy": "2024-05-13T17:59:34.800693Z",
     "iopub.status.idle": "2024-05-13T17:59:34.844563Z",
     "shell.execute_reply": "2024-05-13T17:59:34.843733Z",
     "shell.execute_reply.started": "2024-05-13T17:59:34.801011Z"
    },
    "tags": []
   },
   "outputs": [
    {
     "data": {
      "application/vnd.jupyter.widget-view+json": {
       "model_id": "33b5bb199d9c43a18abd9b1e6ac3ee42",
       "version_major": 2,
       "version_minor": 0
      },
      "text/plain": [
       "VBox()"
      ]
     },
     "metadata": {},
     "output_type": "display_data"
    },
    {
     "data": {
      "application/vnd.jupyter.widget-view+json": {
       "model_id": "",
       "version_major": 2,
       "version_minor": 0
      },
      "text/plain": [
       "FloatProgress(value=0.0, bar_style='info', description='Progress:', layout=Layout(height='25px', width='50%'),…"
      ]
     },
     "metadata": {},
     "output_type": "display_data"
    },
    {
     "name": "stdout",
     "output_type": "stream",
     "text": [
      "root\n",
      " |-- tconst: string (nullable = true)\n",
      " |-- averageRating: string (nullable = true)\n",
      " |-- numVotes: string (nullable = true)"
     ]
    }
   ],
   "source": [
    "rating.printSchema()"
   ]
  },
  {
   "cell_type": "markdown",
   "id": "76ac1ac7",
   "metadata": {},
   "source": [
    "Display the first 17 rows in a descending order by the number of votes"
   ]
  },
  {
   "cell_type": "code",
   "execution_count": 15,
   "id": "bb9312af-08b8-4ef7-b32e-38a671c61d38",
   "metadata": {
    "execution": {
     "iopub.execute_input": "2024-05-13T17:59:34.845832Z",
     "iopub.status.busy": "2024-05-13T17:59:34.845620Z",
     "iopub.status.idle": "2024-05-13T17:59:37.109975Z",
     "shell.execute_reply": "2024-05-13T17:59:37.109297Z",
     "shell.execute_reply.started": "2024-05-13T17:59:34.845810Z"
    },
    "tags": []
   },
   "outputs": [
    {
     "data": {
      "application/vnd.jupyter.widget-view+json": {
       "model_id": "2e71807114a840ad9fc6e41b72569f28",
       "version_major": 2,
       "version_minor": 0
      },
      "text/plain": [
       "VBox()"
      ]
     },
     "metadata": {},
     "output_type": "display_data"
    },
    {
     "data": {
      "application/vnd.jupyter.widget-view+json": {
       "model_id": "",
       "version_major": 2,
       "version_minor": 0
      },
      "text/plain": [
       "FloatProgress(value=0.0, bar_style='info', description='Progress:', layout=Layout(height='25px', width='50%'),…"
      ]
     },
     "metadata": {},
     "output_type": "display_data"
    },
    {
     "name": "stdout",
     "output_type": "stream",
     "text": [
      "+---------+-------------+--------+\n",
      "|   tconst|averageRating|numVotes|\n",
      "+---------+-------------+--------+\n",
      "|tt0111161|          9.3| 2868594|\n",
      "|tt0468569|          9.0| 2850372|\n",
      "|tt1375666|          8.8| 2531543|\n",
      "|tt0137523|          8.8| 2303989|\n",
      "|tt0944947|          9.2| 2265760|\n",
      "|tt0109830|          8.8| 2239746|\n",
      "|tt0110912|          8.9| 2203191|\n",
      "|tt0903747|          9.5| 2114358|\n",
      "|tt0816692|          8.7| 2073181|\n",
      "|tt0133093|          8.7| 2038364|\n",
      "|tt0068646|          9.2| 1998180|\n",
      "|tt0120737|          8.9| 1993270|\n",
      "|tt0167260|          9.0| 1965196|\n",
      "|tt1345836|          8.4| 1815527|\n",
      "|tt0114369|          8.6| 1784989|\n",
      "|tt0167261|          8.8| 1771798|\n",
      "|tt1853728|          8.5| 1681373|\n",
      "+---------+-------------+--------+\n",
      "only showing top 17 rows"
     ]
    }
   ],
   "source": [
    "from pyspark.sql.functions import col\n",
    "\n",
    "# Convert numVotes to int\n",
    "convert_num_votes_to_int = rating.withColumn(\"numVotes\", col(\"numVotes\").cast(\"int\"))\n",
    "\n",
    "# Sort numVotes in descending order\n",
    "convert_num_votes_to_int.sort(col('numVotes').desc()).show(17)"
   ]
  },
  {
   "cell_type": "markdown",
   "id": "e77cf460",
   "metadata": {},
   "source": [
    "# Overview of Data"
   ]
  },
  {
   "cell_type": "markdown",
   "id": "2bc943bf",
   "metadata": {},
   "source": [
    "Display the number of rows and columns in each dataFrame object."
   ]
  },
  {
   "cell_type": "code",
   "execution_count": 16,
   "id": "9df5cb91-535a-43cc-a84f-0472072a564e",
   "metadata": {
    "execution": {
     "iopub.execute_input": "2024-05-13T17:59:37.111193Z",
     "iopub.status.busy": "2024-05-13T17:59:37.110966Z",
     "iopub.status.idle": "2024-05-13T18:00:06.485351Z",
     "shell.execute_reply": "2024-05-13T18:00:06.484438Z",
     "shell.execute_reply.started": "2024-05-13T17:59:37.111170Z"
    },
    "tags": []
   },
   "outputs": [
    {
     "data": {
      "application/vnd.jupyter.widget-view+json": {
       "model_id": "02d981b7271242a088065cebdb688e06",
       "version_major": 2,
       "version_minor": 0
      },
      "text/plain": [
       "VBox()"
      ]
     },
     "metadata": {},
     "output_type": "display_data"
    },
    {
     "data": {
      "application/vnd.jupyter.widget-view+json": {
       "model_id": "",
       "version_major": 2,
       "version_minor": 0
      },
      "text/plain": [
       "FloatProgress(value=0.0, bar_style='info', description='Progress:', layout=Layout(height='25px', width='50%'),…"
      ]
     },
     "metadata": {},
     "output_type": "display_data"
    },
    {
     "name": "stdout",
     "output_type": "stream",
     "text": [
      "Number of columns in Name Basics table:  6\n",
      "Number of rows in Name Basics table:  13329316 \n",
      "\n",
      "Number of columns in Title Basics table:  8\n",
      "Number of rows in Title Basics table:  10613322 \n",
      "\n",
      "Number of columns in Principle table:  6\n",
      "Number of rows in Principle Basics table:  60833800 \n",
      "\n",
      "Number of columns in Rating table:  3\n",
      "Number of rows in Rating table:  1412275"
     ]
    }
   ],
   "source": [
    "# Parallelize name, title, principle, rating:\n",
    "nameRdd = sc.parallelize(name.columns)\n",
    "titleRdd = sc.parallelize(title.columns)\n",
    "principleRdd = sc.parallelize(principle.columns)\n",
    "ratingRdd = sc.parallelize(rating.columns)\n",
    "\n",
    "# Name Row and Column Count:\n",
    "print(\"Number of columns in Name Basics table: \", nameRdd.count())\n",
    "print(\"Number of rows in Name Basics table: \", name.count(), \"\\n\")\n",
    "\n",
    "# Title Row and Column Count:\n",
    "print(\"Number of columns in Title Basics table: \", titleRdd.count())\n",
    "print(\"Number of rows in Title Basics table: \", title.count(), \"\\n\")\n",
    "\n",
    "# Principle Row and Column Count:\n",
    "print(\"Number of columns in Principle table: \", principleRdd.count())\n",
    "print(\"Number of rows in Principle Basics table: \", principle.count(), \"\\n\")\n",
    "\n",
    "# Rating Row and Column Count:\n",
    "print(\"Number of columns in Rating table: \", ratingRdd.count())\n",
    "print(\"Number of rows in Rating table: \", rating.count(), \"\\n\")"
   ]
  },
  {
   "cell_type": "markdown",
   "id": "b45c87a7",
   "metadata": {},
   "source": [
    "# PART 2 - Analyzing Movie Genres"
   ]
  },
  {
   "cell_type": "markdown",
   "id": "37c839bd",
   "metadata": {},
   "source": [
    "Let's now answer this question: how many unique movie genres are represented in this dataset?\n",
    "\n",
    "Essentially, we have the genres per movie as a list - this is useful to quickly see what each movie might be represented as but it is difficult to easily answer questions such as:\n",
    "\n",
    "* How many movies are categorized as Comedy, for instance?\n",
    "* What are the top 20 most popular genres available?"
   ]
  },
  {
   "cell_type": "markdown",
   "id": "509eb185",
   "metadata": {},
   "source": [
    "## Association Table\n",
    "\n",
    "We need to \"break out\" these genres from the tconst? One common approach to take is to build an association table mapping a single tconst multiple times to each distinct genre.\n",
    "\n",
    "For instance, given the following:\n",
    "\n",
    "\n",
    "| tconst   | titleType  |genres |\n",
    "|----------|------------|-------|\n",
    "| abcd123  | XXX        |a,b,c  |\n",
    "\n",
    "We would like to derive something like:\n",
    "\n",
    "| tconst   |  titleType |genre |\n",
    "|----------|------------|------|\n",
    "| abcd123  | XXX        |a     |\n",
    "| abcd123  | XXX        |b     |\n",
    "| abcd123  | XXX        |c     |\n",
    "\n",
    "\n",
    "What this does is allow us to then perform a myriad of rollups and other analysis on this association table which can aid us in answering the questions asked above.\n",
    "\n",
    "Implement the code necessary to derive the table described from the data set"
   ]
  },
  {
   "cell_type": "code",
   "execution_count": 67,
   "id": "30f9ba62-c276-4383-9b3e-b5bda2c8ef7f",
   "metadata": {
    "execution": {
     "iopub.execute_input": "2024-05-13T18:45:22.734730Z",
     "iopub.status.busy": "2024-05-13T18:45:22.734387Z",
     "iopub.status.idle": "2024-05-13T18:45:32.016059Z",
     "shell.execute_reply": "2024-05-13T18:45:32.015322Z",
     "shell.execute_reply.started": "2024-05-13T18:45:22.734701Z"
    }
   },
   "outputs": [
    {
     "data": {
      "application/vnd.jupyter.widget-view+json": {
       "model_id": "633d2ccec221473b84da43feb1f47d6a",
       "version_major": 2,
       "version_minor": 0
      },
      "text/plain": [
       "VBox()"
      ]
     },
     "metadata": {},
     "output_type": "display_data"
    },
    {
     "data": {
      "application/vnd.jupyter.widget-view+json": {
       "model_id": "",
       "version_major": 2,
       "version_minor": 0
      },
      "text/plain": [
       "FloatProgress(value=0.0, bar_style='info', description='Progress:', layout=Layout(height='25px', width='50%'),…"
      ]
     },
     "metadata": {},
     "output_type": "display_data"
    },
    {
     "name": "stdout",
     "output_type": "stream",
     "text": [
      "+---------+---------+------------------------+\n",
      "|tconst   |titleType|genres                  |\n",
      "+---------+---------+------------------------+\n",
      "|tt0000001|short    |Documentary,Short       |\n",
      "|tt0000002|short    |Animation,Short         |\n",
      "|tt0000003|short    |Animation,Comedy,Romance|\n",
      "|tt0000004|short    |Animation,Short         |\n",
      "|tt0000005|short    |Comedy,Short            |\n",
      "|tt0000006|short    |Short                   |\n",
      "|tt0000007|short    |Short,Sport             |\n",
      "|tt0000008|short    |Documentary,Short       |\n",
      "|tt0000009|movie    |Romance                 |\n",
      "|tt0000010|short    |Documentary,Short       |\n",
      "+---------+---------+------------------------+\n",
      "only showing top 10 rows"
     ]
    }
   ],
   "source": [
    "# Association Table\n",
    "tmp_association_table = title.select(\"tconst\", \"titleType\", \"genres\")\n",
    "tmp_association_table.show(10, truncate=False)"
   ]
  },
  {
   "cell_type": "code",
   "execution_count": 68,
   "id": "bc999852-523a-429b-9ca0-403c46e4e51c",
   "metadata": {
    "execution": {
     "iopub.execute_input": "2024-05-13T18:47:30.774917Z",
     "iopub.status.busy": "2024-05-13T18:47:30.774587Z",
     "iopub.status.idle": "2024-05-13T18:47:40.055971Z",
     "shell.execute_reply": "2024-05-13T18:47:40.054976Z",
     "shell.execute_reply.started": "2024-05-13T18:47:30.774879Z"
    }
   },
   "outputs": [
    {
     "data": {
      "application/vnd.jupyter.widget-view+json": {
       "model_id": "9e0d575665c145869bbbf278f00cd58c",
       "version_major": 2,
       "version_minor": 0
      },
      "text/plain": [
       "VBox()"
      ]
     },
     "metadata": {},
     "output_type": "display_data"
    },
    {
     "data": {
      "application/vnd.jupyter.widget-view+json": {
       "model_id": "",
       "version_major": 2,
       "version_minor": 0
      },
      "text/plain": [
       "FloatProgress(value=0.0, bar_style='info', description='Progress:', layout=Layout(height='25px', width='50%'),…"
      ]
     },
     "metadata": {},
     "output_type": "display_data"
    },
    {
     "name": "stdout",
     "output_type": "stream",
     "text": [
      "+---------+---------+-----------+\n",
      "|tconst   |titleType|genres     |\n",
      "+---------+---------+-----------+\n",
      "|tt0000001|short    |Documentary|\n",
      "|tt0000001|short    |Short      |\n",
      "|tt0000002|short    |Animation  |\n",
      "|tt0000002|short    |Short      |\n",
      "|tt0000003|short    |Animation  |\n",
      "|tt0000003|short    |Comedy     |\n",
      "|tt0000003|short    |Romance    |\n",
      "|tt0000004|short    |Animation  |\n",
      "|tt0000004|short    |Short      |\n",
      "|tt0000005|short    |Comedy     |\n",
      "|tt0000005|short    |Short      |\n",
      "|tt0000006|short    |Short      |\n",
      "|tt0000007|short    |Short      |\n",
      "|tt0000007|short    |Sport      |\n",
      "|tt0000008|short    |Documentary|\n",
      "|tt0000008|short    |Short      |\n",
      "|tt0000009|movie    |Romance    |\n",
      "|tt0000010|short    |Documentary|\n",
      "|tt0000010|short    |Short      |\n",
      "|tt0000011|short    |Documentary|\n",
      "|tt0000011|short    |Short      |\n",
      "|tt0000012|short    |Documentary|\n",
      "|tt0000012|short    |Short      |\n",
      "|tt0000013|short    |Documentary|\n",
      "|tt0000013|short    |Short      |\n",
      "|tt0000014|short    |Comedy     |\n",
      "|tt0000014|short    |Short      |\n",
      "|tt0000015|short    |Animation  |\n",
      "|tt0000015|short    |Short      |\n",
      "|tt0000016|short    |Documentary|\n",
      "+---------+---------+-----------+\n",
      "only showing top 30 rows"
     ]
    }
   ],
   "source": [
    "# First 30 rows of tmp association table\n",
    "tmp_association_table = tmp_association_table.withColumn('genres',explode(split('genres',\",\")))\n",
    "tmp_association_table.show(30, truncate=False)"
   ]
  },
  {
   "cell_type": "code",
   "execution_count": 69,
   "id": "4cc7824f-2b3b-4394-be60-f2f96ed68e31",
   "metadata": {
    "execution": {
     "iopub.execute_input": "2024-05-13T18:48:13.794741Z",
     "iopub.status.busy": "2024-05-13T18:48:13.794447Z",
     "iopub.status.idle": "2024-05-13T18:48:14.555651Z",
     "shell.execute_reply": "2024-05-13T18:48:14.554010Z",
     "shell.execute_reply.started": "2024-05-13T18:48:13.794715Z"
    },
    "tags": []
   },
   "outputs": [
    {
     "data": {
      "application/vnd.jupyter.widget-view+json": {
       "model_id": "759d4ec6c5064826978e989926102b56",
       "version_major": 2,
       "version_minor": 0
      },
      "text/plain": [
       "VBox()"
      ]
     },
     "metadata": {},
     "output_type": "display_data"
    },
    {
     "data": {
      "application/vnd.jupyter.widget-view+json": {
       "model_id": "",
       "version_major": 2,
       "version_minor": 0
      },
      "text/plain": [
       "FloatProgress(value=0.0, bar_style='info', description='Progress:', layout=Layout(height='25px', width='50%'),…"
      ]
     },
     "metadata": {},
     "output_type": "display_data"
    },
    {
     "name": "stdout",
     "output_type": "stream",
     "text": [
      "+---------+---------+------------------------------+--------------------------+\n",
      "|tconst   |titleType|primaryTitle                  |genres                    |\n",
      "+---------+---------+------------------------------+--------------------------+\n",
      "|tt0000009|movie    |Miss Jerry                    |Romance                   |\n",
      "|tt0000147|movie    |The Corbett-Fitzsimmons Fight |Documentary,News,Sport    |\n",
      "|tt0000502|movie    |Bohemios                      |\\N                        |\n",
      "|tt0000574|movie    |The Story of the Kelly Gang   |Action,Adventure,Biography|\n",
      "|tt0000591|movie    |The Prodigal Son              |Drama                     |\n",
      "|tt0000615|movie    |Robbery Under Arms            |Drama                     |\n",
      "|tt0000630|movie    |Hamlet                        |Drama                     |\n",
      "|tt0000675|movie    |Don Quijote                   |Drama                     |\n",
      "|tt0000679|movie    |The Fairylogue and Radio-Plays|Adventure,Fantasy         |\n",
      "|tt0000838|movie    |A Cultura do Cacau            |\\N                        |\n",
      "+---------+---------+------------------------------+--------------------------+\n",
      "only showing top 10 rows"
     ]
    }
   ],
   "source": [
    "table_derived = title.select(\"tconst\", \"titleType\", \"primaryTitle\", \"genres\")\n",
    "# filter for titleType equal to movie\n",
    "table_derived = table_derived.filter(table_derived.titleType == \"movie\")\n",
    "\n",
    "table_derived.show(10, truncate=False)"
   ]
  },
  {
   "cell_type": "code",
   "execution_count": 18,
   "id": "bd41bac9-4116-4a9f-bb49-25d80a89903b",
   "metadata": {
    "execution": {
     "iopub.execute_input": "2024-05-13T18:00:07.245718Z",
     "iopub.status.busy": "2024-05-13T18:00:07.245373Z",
     "iopub.status.idle": "2024-05-13T18:00:07.289800Z",
     "shell.execute_reply": "2024-05-13T18:00:07.289006Z",
     "shell.execute_reply.started": "2024-05-13T18:00:07.245679Z"
    },
    "tags": []
   },
   "outputs": [
    {
     "data": {
      "application/vnd.jupyter.widget-view+json": {
       "model_id": "c9bc1de221744f45900a69b0f6f4608a",
       "version_major": 2,
       "version_minor": 0
      },
      "text/plain": [
       "VBox()"
      ]
     },
     "metadata": {},
     "output_type": "display_data"
    },
    {
     "data": {
      "application/vnd.jupyter.widget-view+json": {
       "model_id": "",
       "version_major": 2,
       "version_minor": 0
      },
      "text/plain": [
       "FloatProgress(value=0.0, bar_style='info', description='Progress:', layout=Layout(height='25px', width='50%'),…"
      ]
     },
     "metadata": {},
     "output_type": "display_data"
    }
   ],
   "source": [
    "from pyspark.sql.functions import split, col, explode, avg"
   ]
  },
  {
   "cell_type": "markdown",
   "id": "7e215c7e",
   "metadata": {},
   "source": [
    "Display the first 30 rows of your association table below"
   ]
  },
  {
   "cell_type": "code",
   "execution_count": 70,
   "id": "eee1cc98",
   "metadata": {
    "execution": {
     "iopub.execute_input": "2024-05-13T18:48:19.794997Z",
     "iopub.status.busy": "2024-05-13T18:48:19.794676Z",
     "iopub.status.idle": "2024-05-13T18:48:20.552109Z",
     "shell.execute_reply": "2024-05-13T18:48:20.551393Z",
     "shell.execute_reply.started": "2024-05-13T18:48:19.794971Z"
    },
    "tags": []
   },
   "outputs": [
    {
     "data": {
      "application/vnd.jupyter.widget-view+json": {
       "model_id": "7baa9fd728fd44cba8a9001c9f9e6899",
       "version_major": 2,
       "version_minor": 0
      },
      "text/plain": [
       "VBox()"
      ]
     },
     "metadata": {},
     "output_type": "display_data"
    },
    {
     "data": {
      "application/vnd.jupyter.widget-view+json": {
       "model_id": "",
       "version_major": 2,
       "version_minor": 0
      },
      "text/plain": [
       "FloatProgress(value=0.0, bar_style='info', description='Progress:', layout=Layout(height='25px', width='50%'),…"
      ]
     },
     "metadata": {},
     "output_type": "display_data"
    },
    {
     "name": "stdout",
     "output_type": "stream",
     "text": [
      "+---------+---------+-----------------------------------------------+-----------+\n",
      "|tconst   |titleType|primaryTitle                                   |genres     |\n",
      "+---------+---------+-----------------------------------------------+-----------+\n",
      "|tt0000009|movie    |Miss Jerry                                     |Romance    |\n",
      "|tt0000147|movie    |The Corbett-Fitzsimmons Fight                  |Documentary|\n",
      "|tt0000147|movie    |The Corbett-Fitzsimmons Fight                  |News       |\n",
      "|tt0000147|movie    |The Corbett-Fitzsimmons Fight                  |Sport      |\n",
      "|tt0000502|movie    |Bohemios                                       |\\N         |\n",
      "|tt0000574|movie    |The Story of the Kelly Gang                    |Action     |\n",
      "|tt0000574|movie    |The Story of the Kelly Gang                    |Adventure  |\n",
      "|tt0000574|movie    |The Story of the Kelly Gang                    |Biography  |\n",
      "|tt0000591|movie    |The Prodigal Son                               |Drama      |\n",
      "|tt0000615|movie    |Robbery Under Arms                             |Drama      |\n",
      "|tt0000630|movie    |Hamlet                                         |Drama      |\n",
      "|tt0000675|movie    |Don Quijote                                    |Drama      |\n",
      "|tt0000679|movie    |The Fairylogue and Radio-Plays                 |Adventure  |\n",
      "|tt0000679|movie    |The Fairylogue and Radio-Plays                 |Fantasy    |\n",
      "|tt0000838|movie    |A Cultura do Cacau                             |\\N         |\n",
      "|tt0000842|movie    |De Garraf a Barcelona                          |\\N         |\n",
      "|tt0000846|movie    |Un día en Xochimilco                           |\\N         |\n",
      "|tt0000850|movie    |Los dos hermanos                               |\\N         |\n",
      "|tt0000859|movie    |Fabricación del corcho en Sant Feliu de Guixols|\\N         |\n",
      "|tt0000862|movie    |Faldgruben                                     |\\N         |\n",
      "|tt0000867|movie    |Fiesta de toros                                |\\N         |\n",
      "|tt0000868|movie    |Fiestas de Santa Lucía - Belenes               |\\N         |\n",
      "|tt0000869|movie    |Fiestas en La Garriga                          |\\N         |\n",
      "|tt0000879|movie    |Gira política de Madero y Pino Suárez          |\\N         |\n",
      "|tt0000886|movie    |Hamlet, Prince of Denmark                      |Drama      |\n",
      "|tt0000941|movie    |Locura de amor                                 |Drama      |\n",
      "|tt0000947|movie    |Lægens offer                                   |\\N         |\n",
      "|tt0000959|movie    |Melilla y el Gurugu                            |\\N         |\n",
      "|tt0000984|movie    |Niños en la alameda                            |\\N         |\n",
      "|tt0001007|movie    |La primera y segunda casetas                   |\\N         |\n",
      "+---------+---------+-----------------------------------------------+-----------+\n",
      "only showing top 30 rows"
     ]
    }
   ],
   "source": [
    "association_table = table_derived.withColumn('genres',explode(split('genres',\",\")))\n",
    "association_table.show(30, truncate=False)\n",
    "\n",
    "derived_association_table_df = association_table"
   ]
  },
  {
   "cell_type": "markdown",
   "id": "9a80280d",
   "metadata": {},
   "source": [
    "## Total Unique Movie Genres"
   ]
  },
  {
   "cell_type": "markdown",
   "id": "b0db9e0c",
   "metadata": {},
   "source": [
    "**What is the total number of unique movie genres?**"
   ]
  },
  {
   "cell_type": "code",
   "execution_count": 20,
   "id": "c6044252",
   "metadata": {
    "execution": {
     "iopub.execute_input": "2024-05-13T18:00:08.045244Z",
     "iopub.status.busy": "2024-05-13T18:00:08.045004Z",
     "iopub.status.idle": "2024-05-13T18:00:08.085882Z",
     "shell.execute_reply": "2024-05-13T18:00:08.085040Z",
     "shell.execute_reply.started": "2024-05-13T18:00:08.045220Z"
    },
    "tags": []
   },
   "outputs": [
    {
     "data": {
      "application/vnd.jupyter.widget-view+json": {
       "model_id": "f5655eab4f0e44a6ab9fb0d9ed5083d3",
       "version_major": 2,
       "version_minor": 0
      },
      "text/plain": [
       "VBox()"
      ]
     },
     "metadata": {},
     "output_type": "display_data"
    },
    {
     "data": {
      "application/vnd.jupyter.widget-view+json": {
       "model_id": "",
       "version_major": 2,
       "version_minor": 0
      },
      "text/plain": [
       "FloatProgress(value=0.0, bar_style='info', description='Progress:', layout=Layout(height='25px', width='50%'),…"
      ]
     },
     "metadata": {},
     "output_type": "display_data"
    }
   ],
   "source": [
    "from pyspark.sql.functions import countDistinct, format_number"
   ]
  },
  {
   "cell_type": "code",
   "execution_count": 71,
   "id": "ce4d36cc-76ed-4a48-a250-258a23b8114e",
   "metadata": {
    "execution": {
     "iopub.execute_input": "2024-05-13T18:48:24.644765Z",
     "iopub.status.busy": "2024-05-13T18:48:24.644438Z",
     "iopub.status.idle": "2024-05-13T18:48:49.986465Z",
     "shell.execute_reply": "2024-05-13T18:48:49.985453Z",
     "shell.execute_reply.started": "2024-05-13T18:48:24.644736Z"
    },
    "tags": []
   },
   "outputs": [
    {
     "data": {
      "application/vnd.jupyter.widget-view+json": {
       "model_id": "842dd527486443ac936238a909d5c211",
       "version_major": 2,
       "version_minor": 0
      },
      "text/plain": [
       "VBox()"
      ]
     },
     "metadata": {},
     "output_type": "display_data"
    },
    {
     "data": {
      "application/vnd.jupyter.widget-view+json": {
       "model_id": "",
       "version_major": 2,
       "version_minor": 0
      },
      "text/plain": [
       "FloatProgress(value=0.0, bar_style='info', description='Progress:', layout=Layout(height='25px', width='50%'),…"
      ]
     },
     "metadata": {},
     "output_type": "display_data"
    },
    {
     "name": "stdout",
     "output_type": "stream",
     "text": [
      "29\n",
      "+----------------------+\n",
      "|count(DISTINCT genres)|\n",
      "+----------------------+\n",
      "|                    29|\n",
      "+----------------------+"
     ]
    }
   ],
   "source": [
    "total_number_of_unique_movie_genres = association_table.select(\"genres\").distinct().count()\n",
    "print(total_number_of_unique_movie_genres)\n",
    "\n",
    "# Using countDistinct\n",
    "distinct_count = association_table.select(countDistinct(\"genres\"))\n",
    "distinct_count.show()"
   ]
  },
  {
   "cell_type": "markdown",
   "id": "5819adcc",
   "metadata": {},
   "source": [
    "**What are the unique movie genres?**"
   ]
  },
  {
   "cell_type": "code",
   "execution_count": 72,
   "id": "2a91bff6-7532-42c6-b11b-f115ca7508f3",
   "metadata": {
    "execution": {
     "iopub.execute_input": "2024-05-13T18:48:53.154712Z",
     "iopub.status.busy": "2024-05-13T18:48:53.154386Z",
     "iopub.status.idle": "2024-05-13T18:49:04.448233Z",
     "shell.execute_reply": "2024-05-13T18:49:04.447394Z",
     "shell.execute_reply.started": "2024-05-13T18:48:53.154683Z"
    },
    "tags": []
   },
   "outputs": [
    {
     "data": {
      "application/vnd.jupyter.widget-view+json": {
       "model_id": "5802b9f55ef24be897da37cf463c24b2",
       "version_major": 2,
       "version_minor": 0
      },
      "text/plain": [
       "VBox()"
      ]
     },
     "metadata": {},
     "output_type": "display_data"
    },
    {
     "data": {
      "application/vnd.jupyter.widget-view+json": {
       "model_id": "",
       "version_major": 2,
       "version_minor": 0
      },
      "text/plain": [
       "FloatProgress(value=0.0, bar_style='info', description='Progress:', layout=Layout(height='25px', width='50%'),…"
      ]
     },
     "metadata": {},
     "output_type": "display_data"
    },
    {
     "name": "stdout",
     "output_type": "stream",
     "text": [
      "+-----------+\n",
      "|     genres|\n",
      "+-----------+\n",
      "|    Mystery|\n",
      "|    Musical|\n",
      "|      Sport|\n",
      "|     Action|\n",
      "|  Talk-Show|\n",
      "|    Romance|\n",
      "|   Thriller|\n",
      "|         \\N|\n",
      "| Reality-TV|\n",
      "|     Family|\n",
      "|    Fantasy|\n",
      "|    History|\n",
      "|  Animation|\n",
      "|  Film-Noir|\n",
      "|      Short|\n",
      "|     Sci-Fi|\n",
      "|       News|\n",
      "|      Drama|\n",
      "|Documentary|\n",
      "|    Western|\n",
      "|     Comedy|\n",
      "|      Crime|\n",
      "|        War|\n",
      "|  Game-Show|\n",
      "|      Adult|\n",
      "|      Music|\n",
      "|  Biography|\n",
      "|  Adventure|\n",
      "|     Horror|\n",
      "+-----------+"
     ]
    }
   ],
   "source": [
    "distinct_genres = association_table.select(\"genres\").distinct()\n",
    "distinct_genres.show(29)"
   ]
  },
  {
   "cell_type": "markdown",
   "id": "4c5f3022",
   "metadata": {},
   "source": [
    "**Oops! Something is off!**"
   ]
  },
  {
   "cell_type": "code",
   "execution_count": 73,
   "id": "1c81199c-43c4-4e3e-b8b4-c1bb71c1c574",
   "metadata": {
    "execution": {
     "iopub.execute_input": "2024-05-13T18:49:08.600523Z",
     "iopub.status.busy": "2024-05-13T18:49:08.600138Z",
     "iopub.status.idle": "2024-05-13T18:49:19.947908Z",
     "shell.execute_reply": "2024-05-13T18:49:19.946899Z",
     "shell.execute_reply.started": "2024-05-13T18:49:08.600489Z"
    },
    "tags": []
   },
   "outputs": [
    {
     "data": {
      "application/vnd.jupyter.widget-view+json": {
       "model_id": "e4404475eafb4586ab3f10ec314a11cc",
       "version_major": 2,
       "version_minor": 0
      },
      "text/plain": [
       "VBox()"
      ]
     },
     "metadata": {},
     "output_type": "display_data"
    },
    {
     "data": {
      "application/vnd.jupyter.widget-view+json": {
       "model_id": "",
       "version_major": 2,
       "version_minor": 0
      },
      "text/plain": [
       "FloatProgress(value=0.0, bar_style='info', description='Progress:', layout=Layout(height='25px', width='50%'),…"
      ]
     },
     "metadata": {},
     "output_type": "display_data"
    },
    {
     "name": "stdout",
     "output_type": "stream",
     "text": [
      "+-----------+\n",
      "|     genres|\n",
      "+-----------+\n",
      "|    Mystery|\n",
      "|    Musical|\n",
      "|      Sport|\n",
      "|     Action|\n",
      "|  Talk-Show|\n",
      "|    Romance|\n",
      "|   Thriller|\n",
      "| Reality-TV|\n",
      "|     Family|\n",
      "|    Fantasy|\n",
      "|    History|\n",
      "|  Animation|\n",
      "|  Film-Noir|\n",
      "|      Short|\n",
      "|     Sci-Fi|\n",
      "|       News|\n",
      "|      Drama|\n",
      "|Documentary|\n",
      "|    Western|\n",
      "|     Comedy|\n",
      "|      Crime|\n",
      "|        War|\n",
      "|  Game-Show|\n",
      "|      Adult|\n",
      "|      Music|\n",
      "|  Biography|\n",
      "|  Adventure|\n",
      "|     Horror|\n",
      "+-----------+"
     ]
    }
   ],
   "source": [
    "# remove null from the disctinct genres list\n",
    "nll = '\\\\N'\n",
    "remove_null = distinct_genres.filter(col(\"genres\") != nll)\n",
    "remove_null.show(28)\n",
    "\n",
    "derived_association_table_filter_null_df = derived_association_table_df.filter(col(\"genres\") != nll)"
   ]
  },
  {
   "cell_type": "markdown",
   "id": "b7d29ebd",
   "metadata": {},
   "source": [
    "## Top Genres by Movies\n",
    "\n",
    "Now let's find the highest rated genres in this dataset by rolling up genres."
   ]
  },
  {
   "cell_type": "code",
   "execution_count": 74,
   "id": "3d52d85e-372c-436c-94af-0b2661560e64",
   "metadata": {
    "execution": {
     "iopub.execute_input": "2024-05-13T18:49:33.095072Z",
     "iopub.status.busy": "2024-05-13T18:49:33.094722Z",
     "iopub.status.idle": "2024-05-13T18:49:48.416377Z",
     "shell.execute_reply": "2024-05-13T18:49:48.415573Z",
     "shell.execute_reply.started": "2024-05-13T18:49:33.095045Z"
    },
    "tags": []
   },
   "outputs": [
    {
     "data": {
      "application/vnd.jupyter.widget-view+json": {
       "model_id": "1da9689238154b318ff9a251d336dba8",
       "version_major": 2,
       "version_minor": 0
      },
      "text/plain": [
       "VBox()"
      ]
     },
     "metadata": {},
     "output_type": "display_data"
    },
    {
     "data": {
      "application/vnd.jupyter.widget-view+json": {
       "model_id": "",
       "version_major": 2,
       "version_minor": 0
      },
      "text/plain": [
       "FloatProgress(value=0.0, bar_style='info', description='Progress:', layout=Layout(height='25px', width='50%'),…"
      ]
     },
     "metadata": {},
     "output_type": "display_data"
    },
    {
     "name": "stdout",
     "output_type": "stream",
     "text": [
      "+---------+---------+--------------------+---------+-------------+--------+\n",
      "|   tconst|titleType|        primaryTitle|   genres|averageRating|numVotes|\n",
      "+---------+---------+--------------------+---------+-------------+--------+\n",
      "|tt0000675|    movie|         Don Quijote|    Drama|          4.2|      20|\n",
      "|tt0000941|    movie|      Locura de amor|    Drama|          4.5|      27|\n",
      "|tt0001911|    movie|         Nell Gwynne|Biography|          3.6|      25|\n",
      "|tt0001911|    movie|         Nell Gwynne|    Drama|          3.6|      25|\n",
      "|tt0001911|    movie|         Nell Gwynne|  History|          3.6|      25|\n",
      "|tt0002153|    movie|The Great Circus ...|    Drama|          6.0|      81|\n",
      "|tt0003241|    movie|One Hundred Years...|    Drama|          5.0|      21|\n",
      "|tt0003241|    movie|One Hundred Years...|  History|          5.0|      21|\n",
      "|tt0003330|    movie|The Life of Richa...|Biography|          6.2|     123|\n",
      "|tt0003330|    movie|The Life of Richa...|    Drama|          6.2|     123|\n",
      "+---------+---------+--------------------+---------+-------------+--------+\n",
      "only showing top 10 rows"
     ]
    }
   ],
   "source": [
    "nll = '\\\\N'\n",
    "removed_null_df = association_table.filter(association_table.genres != nll)\n",
    "join_removed_null_df = removed_null_df.join(rating, on=\"tconst\", how=\"inner\")\n",
    "join_removed_null_df = join_removed_null_df.withColumn(\"averageRating\", col(\"averageRating\").cast(\"float\"))\n",
    "\n",
    "join_removed_null_df.show(10)"
   ]
  },
  {
   "cell_type": "code",
   "execution_count": 75,
   "id": "038a4238-abf1-4c84-9fe4-34602a56e600",
   "metadata": {
    "execution": {
     "iopub.execute_input": "2024-05-13T18:50:35.354986Z",
     "iopub.status.busy": "2024-05-13T18:50:35.354660Z",
     "iopub.status.idle": "2024-05-13T18:50:35.392667Z",
     "shell.execute_reply": "2024-05-13T18:50:35.392033Z",
     "shell.execute_reply.started": "2024-05-13T18:50:35.354958Z"
    },
    "tags": []
   },
   "outputs": [
    {
     "data": {
      "application/vnd.jupyter.widget-view+json": {
       "model_id": "6ebc766236f64001a1f440a34b7f746a",
       "version_major": 2,
       "version_minor": 0
      },
      "text/plain": [
       "VBox()"
      ]
     },
     "metadata": {},
     "output_type": "display_data"
    },
    {
     "data": {
      "application/vnd.jupyter.widget-view+json": {
       "model_id": "",
       "version_major": 2,
       "version_minor": 0
      },
      "text/plain": [
       "FloatProgress(value=0.0, bar_style='info', description='Progress:', layout=Layout(height='25px', width='50%'),…"
      ]
     },
     "metadata": {},
     "output_type": "display_data"
    },
    {
     "name": "stdout",
     "output_type": "stream",
     "text": [
      "root\n",
      " |-- tconst: string (nullable = true)\n",
      " |-- titleType: string (nullable = true)\n",
      " |-- primaryTitle: string (nullable = true)\n",
      " |-- genres: string (nullable = false)\n",
      " |-- averageRating: float (nullable = true)\n",
      " |-- numVotes: string (nullable = true)"
     ]
    }
   ],
   "source": [
    "join_removed_null_df.printSchema()"
   ]
  },
  {
   "cell_type": "markdown",
   "id": "de4c28e3",
   "metadata": {},
   "source": [
    "### Average Rating / Genre"
   ]
  },
  {
   "cell_type": "code",
   "execution_count": 76,
   "id": "2c784e64-4acf-4069-9b8d-3d33b84d2cc1",
   "metadata": {
    "execution": {
     "iopub.execute_input": "2024-05-13T18:50:38.495204Z",
     "iopub.status.busy": "2024-05-13T18:50:38.494905Z",
     "iopub.status.idle": "2024-05-13T18:50:53.800684Z",
     "shell.execute_reply": "2024-05-13T18:50:53.799874Z",
     "shell.execute_reply.started": "2024-05-13T18:50:38.495179Z"
    },
    "tags": []
   },
   "outputs": [
    {
     "data": {
      "application/vnd.jupyter.widget-view+json": {
       "model_id": "e7b6b6ee8ac3462681fe6160e556b1f2",
       "version_major": 2,
       "version_minor": 0
      },
      "text/plain": [
       "VBox()"
      ]
     },
     "metadata": {},
     "output_type": "display_data"
    },
    {
     "data": {
      "application/vnd.jupyter.widget-view+json": {
       "model_id": "",
       "version_major": 2,
       "version_minor": 0
      },
      "text/plain": [
       "FloatProgress(value=0.0, bar_style='info', description='Progress:', layout=Layout(height='25px', width='50%'),…"
      ]
     },
     "metadata": {},
     "output_type": "display_data"
    },
    {
     "name": "stdout",
     "output_type": "stream",
     "text": [
      "+-----------+-----------------+\n",
      "|genres     |avg_rating       |\n",
      "+-----------+-----------------+\n",
      "|Mystery    |5.847074886309395|\n",
      "|Musical    |6.187155825431697|\n",
      "|Action     |5.73206275877058 |\n",
      "|Sport      |6.622753549016781|\n",
      "|Talk-Show  |6.857894684139051|\n",
      "|Romance    |6.102042076246799|\n",
      "|Thriller   |5.613199077863834|\n",
      "|Reality-TV |6.701428551333291|\n",
      "|Family     |6.204969945643073|\n",
      "|Fantasy    |5.897977381802061|\n",
      "|History    |6.798132156312619|\n",
      "|Animation  |6.366616429335746|\n",
      "|Film-Noir  |6.463253695810208|\n",
      "|Sci-Fi     |5.352549183035069|\n",
      "|News       |7.203412463473991|\n",
      "|Drama      |6.247823270698598|\n",
      "|Documentary|7.216490032240835|\n",
      "|Western    |5.840080582491727|\n",
      "|Comedy     |5.90551925204461 |\n",
      "|Crime      |5.985035728040876|\n",
      "+-----------+-----------------+\n",
      "only showing top 20 rows"
     ]
    }
   ],
   "source": [
    "average_rating_per_genre = join_removed_null_df.groupBy(\"genres\").agg(avg(\"averageRating\").alias(\"avg_rating\"))\n",
    "average_rating_per_genre.show(truncate=False)"
   ]
  },
  {
   "cell_type": "code",
   "execution_count": 77,
   "id": "764ade39-f25b-4715-831b-ba6364d4eee7",
   "metadata": {
    "execution": {
     "iopub.execute_input": "2024-05-13T18:50:58.805275Z",
     "iopub.status.busy": "2024-05-13T18:50:58.804968Z",
     "iopub.status.idle": "2024-05-13T18:51:14.121997Z",
     "shell.execute_reply": "2024-05-13T18:51:14.121200Z",
     "shell.execute_reply.started": "2024-05-13T18:50:58.805249Z"
    },
    "tags": []
   },
   "outputs": [
    {
     "data": {
      "application/vnd.jupyter.widget-view+json": {
       "model_id": "90a7c0d9e56d4e6fb4e6c0c642a4cbfb",
       "version_major": 2,
       "version_minor": 0
      },
      "text/plain": [
       "VBox()"
      ]
     },
     "metadata": {},
     "output_type": "display_data"
    },
    {
     "data": {
      "application/vnd.jupyter.widget-view+json": {
       "model_id": "",
       "version_major": 2,
       "version_minor": 0
      },
      "text/plain": [
       "FloatProgress(value=0.0, bar_style='info', description='Progress:', layout=Layout(height='25px', width='50%'),…"
      ]
     },
     "metadata": {},
     "output_type": "display_data"
    },
    {
     "name": "stdout",
     "output_type": "stream",
     "text": [
      "+-----------+-----------------+\n",
      "|     genres|       avg_rating|\n",
      "+-----------+-----------------+\n",
      "|Documentary|7.216490032240835|\n",
      "|       News|7.203412463473991|\n",
      "|  Biography|6.950988810718765|\n",
      "|  Game-Show| 6.87999997138977|\n",
      "|  Talk-Show|6.857894684139051|\n",
      "|    History|6.798132156312619|\n",
      "|      Music|6.754639721007496|\n",
      "| Reality-TV|6.701428551333291|\n",
      "|      Sport|6.622753549016781|\n",
      "|  Film-Noir|6.463253695810208|\n",
      "|        War|6.402568983324664|\n",
      "|  Animation|6.366616429335746|\n",
      "|      Drama|6.247823270698598|\n",
      "|     Family|6.204969945643073|\n",
      "|    Musical|6.187155825431697|\n",
      "|    Romance|6.102042076246799|\n",
      "|      Crime|5.985035728040876|\n",
      "|     Comedy| 5.90551925204461|\n",
      "|    Fantasy|5.897977381802061|\n",
      "|  Adventure| 5.86648599771696|\n",
      "|    Mystery|5.847074886309395|\n",
      "|    Western|5.840080582491727|\n",
      "|     Action| 5.73206275877058|\n",
      "|   Thriller|5.613199077863834|\n",
      "|      Adult|5.554367820531472|\n",
      "|     Sci-Fi|5.352549183035069|\n",
      "|     Horror|5.002249800832677|\n",
      "|      Short|              5.0|\n",
      "+-----------+-----------------+"
     ]
    }
   ],
   "source": [
    "# sort average rating per genre by desc\n",
    "average_rating_per_genre = average_rating_per_genre.orderBy(col(\"avg_rating\").desc())\n",
    "average_rating_per_genre.show(28)"
   ]
  },
  {
   "cell_type": "markdown",
   "id": "49f1153c",
   "metadata": {},
   "source": [
    "So now, let's unroll our distinct count a bit and display the per average rating value of per genre.\n",
    "\n",
    "The expected output should be:\n",
    "\n",
    "| genre | averageRating |\n",
    "|-------------|------------|\n",
    "| a     | 8.5         |\n",
    "| b     | 6.3         |\n",
    "| c     | 7.2         |\n",
    "\n",
    "Or something to that effect."
   ]
  },
  {
   "cell_type": "markdown",
   "id": "15423dc6",
   "metadata": {},
   "source": [
    "First, let's join our two dataframes (title ratings and title basics) by tconst. Use inner join."
   ]
  },
  {
   "cell_type": "markdown",
   "id": "98094ca8",
   "metadata": {},
   "source": [
    "Now, let's aggregate along the averageRating column to get a resultant dataframe that displays average rating per genre."
   ]
  },
  {
   "cell_type": "markdown",
   "id": "b1fd4e61",
   "metadata": {},
   "source": [
    "### Horizontal Bar Chart of Top Genres\n",
    "\n",
    "With this data available, let us now build a barchart of all genres \n",
    "\n",
    "**HINT**: don't forget about the matplotlib magic!\n",
    "\n",
    "```\n",
    "%matplot plt\n",
    "```"
   ]
  },
  {
   "cell_type": "code",
   "execution_count": 78,
   "id": "bc8a862d-d2f3-4156-9bed-412a0097d4f1",
   "metadata": {
    "execution": {
     "iopub.execute_input": "2024-05-13T18:51:20.795030Z",
     "iopub.status.busy": "2024-05-13T18:51:20.794713Z",
     "iopub.status.idle": "2024-05-13T18:51:20.839328Z",
     "shell.execute_reply": "2024-05-13T18:51:20.838655Z",
     "shell.execute_reply.started": "2024-05-13T18:51:20.795001Z"
    },
    "tags": []
   },
   "outputs": [
    {
     "data": {
      "application/vnd.jupyter.widget-view+json": {
       "model_id": "dec184f7e4b6427590c3481f6f435c93",
       "version_major": 2,
       "version_minor": 0
      },
      "text/plain": [
       "VBox()"
      ]
     },
     "metadata": {},
     "output_type": "display_data"
    },
    {
     "data": {
      "application/vnd.jupyter.widget-view+json": {
       "model_id": "",
       "version_major": 2,
       "version_minor": 0
      },
      "text/plain": [
       "FloatProgress(value=0.0, bar_style='info', description='Progress:', layout=Layout(height='25px', width='50%'),…"
      ]
     },
     "metadata": {},
     "output_type": "display_data"
    }
   ],
   "source": [
    "# flip the ratings\n",
    "average_rating_per_genre = average_rating_per_genre.orderBy(col(\"avg_rating\").asc())"
   ]
  },
  {
   "cell_type": "code",
   "execution_count": 79,
   "id": "972b15f7-8c9f-4365-b4c8-02f8429e1214",
   "metadata": {
    "execution": {
     "iopub.execute_input": "2024-05-13T18:51:23.315653Z",
     "iopub.status.busy": "2024-05-13T18:51:23.315351Z",
     "iopub.status.idle": "2024-05-13T18:51:36.603724Z",
     "shell.execute_reply": "2024-05-13T18:51:36.602909Z",
     "shell.execute_reply.started": "2024-05-13T18:51:23.315626Z"
    },
    "tags": []
   },
   "outputs": [
    {
     "data": {
      "application/vnd.jupyter.widget-view+json": {
       "model_id": "dee5c74a00224148944326ea0bd18230",
       "version_major": 2,
       "version_minor": 0
      },
      "text/plain": [
       "VBox()"
      ]
     },
     "metadata": {},
     "output_type": "display_data"
    },
    {
     "data": {
      "application/vnd.jupyter.widget-view+json": {
       "model_id": "",
       "version_major": 2,
       "version_minor": 0
      },
      "text/plain": [
       "FloatProgress(value=0.0, bar_style='info', description='Progress:', layout=Layout(height='25px', width='50%'),…"
      ]
     },
     "metadata": {},
     "output_type": "display_data"
    }
   ],
   "source": [
    "average_rating_per_genre_pd = average_rating_per_genre.toPandas()"
   ]
  },
  {
   "cell_type": "code",
   "execution_count": 80,
   "id": "941ee708-a28a-4322-a412-6f723fe5a2ae",
   "metadata": {
    "execution": {
     "iopub.execute_input": "2024-05-13T18:51:42.204808Z",
     "iopub.status.busy": "2024-05-13T18:51:42.204495Z",
     "iopub.status.idle": "2024-05-13T18:51:42.458043Z",
     "shell.execute_reply": "2024-05-13T18:51:42.457386Z",
     "shell.execute_reply.started": "2024-05-13T18:51:42.204781Z"
    },
    "tags": []
   },
   "outputs": [
    {
     "data": {
      "application/vnd.jupyter.widget-view+json": {
       "model_id": "d6e7687e9e9e4c2e88bd27ba2fac0d97",
       "version_major": 2,
       "version_minor": 0
      },
      "text/plain": [
       "VBox()"
      ]
     },
     "metadata": {},
     "output_type": "display_data"
    },
    {
     "data": {
      "application/vnd.jupyter.widget-view+json": {
       "model_id": "",
       "version_major": 2,
       "version_minor": 0
      },
      "text/plain": [
       "FloatProgress(value=0.0, bar_style='info', description='Progress:', layout=Layout(height='25px', width='50%'),…"
      ]
     },
     "metadata": {},
     "output_type": "display_data"
    },
    {
     "data": {
      "image/png": "[encoded data removed]",
      "text/plain": [
       "<IPython.core.display.Image object>"
      ]
     },
     "metadata": {},
     "output_type": "display_data"
    }
   ],
   "source": [
    "import matplotlib.pyplot as plt\n",
    "\n",
    "plt.figure(figsize=(10, 6))  \n",
    "plt.barh(average_rating_per_genre_pd['genres'], average_rating_per_genre_pd['avg_rating'], color='#9400d3', height=0.5, label='avg_rating')\n",
    "plt.xlabel('Average Rating')  \n",
    "plt.ylabel('Genre')  \n",
    "plt.legend()\n",
    "plt.title('Top Genres in the Movie Category')\n",
    "plt.xlim(4.5, 7.5)\n",
    "\n",
    "%matplot plt"
   ]
  },
  {
   "cell_type": "markdown",
   "id": "3671c612",
   "metadata": {},
   "source": [
    "## PART 3 - Analyzing Job Categories"
   ]
  },
  {
   "cell_type": "markdown",
   "id": "2912a0ba",
   "metadata": {},
   "source": [
    "## Total Unique Job Categories"
   ]
  },
  {
   "cell_type": "markdown",
   "id": "099531c0",
   "metadata": {},
   "source": [
    "**What is the total number of unique job categories?**"
   ]
  },
  {
   "cell_type": "code",
   "execution_count": 31,
   "id": "ea84a827-75d9-4ed8-af27-162ff4c39abc",
   "metadata": {
    "execution": {
     "iopub.execute_input": "2024-05-13T18:01:54.356395Z",
     "iopub.status.busy": "2024-05-13T18:01:54.356068Z",
     "iopub.status.idle": "2024-05-13T18:02:39.760230Z",
     "shell.execute_reply": "2024-05-13T18:02:39.759388Z",
     "shell.execute_reply.started": "2024-05-13T18:01:54.356359Z"
    },
    "tags": []
   },
   "outputs": [
    {
     "data": {
      "application/vnd.jupyter.widget-view+json": {
       "model_id": "ff31eb6d1f174ee5a40f86d2db610ce8",
       "version_major": 2,
       "version_minor": 0
      },
      "text/plain": [
       "VBox()"
      ]
     },
     "metadata": {},
     "output_type": "display_data"
    },
    {
     "data": {
      "application/vnd.jupyter.widget-view+json": {
       "model_id": "",
       "version_major": 2,
       "version_minor": 0
      },
      "text/plain": [
       "FloatProgress(value=0.0, bar_style='info', description='Progress:', layout=Layout(height='25px', width='50%'),…"
      ]
     },
     "metadata": {},
     "output_type": "display_data"
    },
    {
     "name": "stdout",
     "output_type": "stream",
     "text": [
      "12"
     ]
    }
   ],
   "source": [
    "principle.select(\"category\").distinct().count()"
   ]
  },
  {
   "cell_type": "code",
   "execution_count": 32,
   "id": "e1b7f90a-02ed-490c-ac5b-f50a2be6dc5b",
   "metadata": {
    "execution": {
     "iopub.execute_input": "2024-05-13T18:02:39.761937Z",
     "iopub.status.busy": "2024-05-13T18:02:39.761590Z",
     "iopub.status.idle": "2024-05-13T18:03:23.143223Z",
     "shell.execute_reply": "2024-05-13T18:03:23.142468Z",
     "shell.execute_reply.started": "2024-05-13T18:02:39.761898Z"
    },
    "tags": []
   },
   "outputs": [
    {
     "data": {
      "application/vnd.jupyter.widget-view+json": {
       "model_id": "baae8531985b4fa7a3c2fe4121c07c4b",
       "version_major": 2,
       "version_minor": 0
      },
      "text/plain": [
       "VBox()"
      ]
     },
     "metadata": {},
     "output_type": "display_data"
    },
    {
     "data": {
      "application/vnd.jupyter.widget-view+json": {
       "model_id": "",
       "version_major": 2,
       "version_minor": 0
      },
      "text/plain": [
       "FloatProgress(value=0.0, bar_style='info', description='Progress:', layout=Layout(height='25px', width='50%'),…"
      ]
     },
     "metadata": {},
     "output_type": "display_data"
    },
    {
     "name": "stdout",
     "output_type": "stream",
     "text": [
      "+------------------------+\n",
      "|count(DISTINCT category)|\n",
      "+------------------------+\n",
      "|                      12|\n",
      "+------------------------+"
     ]
    }
   ],
   "source": [
    "# use countDistinct\n",
    "principle.select(countDistinct(\"category\")).show()"
   ]
  },
  {
   "cell_type": "markdown",
   "id": "c3b2f7b4",
   "metadata": {},
   "source": [
    "**What are the unique job categories available?**"
   ]
  },
  {
   "cell_type": "code",
   "execution_count": 33,
   "id": "7d7223ad-4cc3-44cc-88c0-dfb000d5bae6",
   "metadata": {
    "execution": {
     "iopub.execute_input": "2024-05-13T18:03:23.144751Z",
     "iopub.status.busy": "2024-05-13T18:03:23.144408Z",
     "iopub.status.idle": "2024-05-13T18:04:08.538547Z",
     "shell.execute_reply": "2024-05-13T18:04:08.537383Z",
     "shell.execute_reply.started": "2024-05-13T18:03:23.144714Z"
    },
    "tags": []
   },
   "outputs": [
    {
     "data": {
      "application/vnd.jupyter.widget-view+json": {
       "model_id": "0f74f35b7dd047ea96b15928d32d4f00",
       "version_major": 2,
       "version_minor": 0
      },
      "text/plain": [
       "VBox()"
      ]
     },
     "metadata": {},
     "output_type": "display_data"
    },
    {
     "data": {
      "application/vnd.jupyter.widget-view+json": {
       "model_id": "",
       "version_major": 2,
       "version_minor": 0
      },
      "text/plain": [
       "FloatProgress(value=0.0, bar_style='info', description='Progress:', layout=Layout(height='25px', width='50%'),…"
      ]
     },
     "metadata": {},
     "output_type": "display_data"
    },
    {
     "name": "stdout",
     "output_type": "stream",
     "text": [
      "+-------------------+\n",
      "|           category|\n",
      "+-------------------+\n",
      "|            actress|\n",
      "|           producer|\n",
      "|production_designer|\n",
      "|             writer|\n",
      "|              actor|\n",
      "|    cinematographer|\n",
      "|      archive_sound|\n",
      "|    archive_footage|\n",
      "|               self|\n",
      "|             editor|\n",
      "|           composer|\n",
      "|           director|\n",
      "+-------------------+"
     ]
    }
   ],
   "source": [
    "show_principle_categories_distinct_df = principle.select(\"category\").distinct()\n",
    "show_principle_categories_distinct_df.show()"
   ]
  },
  {
   "cell_type": "markdown",
   "id": "47312540",
   "metadata": {},
   "source": [
    "## Top Job Categories"
   ]
  },
  {
   "cell_type": "markdown",
   "id": "61df21f0",
   "metadata": {},
   "source": [
    "Now let's find the top job categories in this dataset by rolling up categories."
   ]
  },
  {
   "cell_type": "markdown",
   "id": "2d56869a",
   "metadata": {},
   "source": [
    "### Counts of Titles / Job Category"
   ]
  },
  {
   "cell_type": "markdown",
   "id": "ae87af2f",
   "metadata": {},
   "source": [
    "The expected output should be:\n",
    "\n",
    "| category | count |\n",
    "|-------------|------------|\n",
    "| a     | 15         |\n",
    "| b     | 2          |\n",
    "| c     | 45          |\n",
    "\n",
    "Or something to that effect."
   ]
  },
  {
   "cell_type": "code",
   "execution_count": 34,
   "id": "8b77e89d-5d73-4615-9e61-0be2f9a240aa",
   "metadata": {
    "execution": {
     "iopub.execute_input": "2024-05-13T18:04:08.540028Z",
     "iopub.status.busy": "2024-05-13T18:04:08.539743Z",
     "iopub.status.idle": "2024-05-13T18:04:53.928990Z",
     "shell.execute_reply": "2024-05-13T18:04:53.928221Z",
     "shell.execute_reply.started": "2024-05-13T18:04:08.540002Z"
    },
    "tags": []
   },
   "outputs": [
    {
     "data": {
      "application/vnd.jupyter.widget-view+json": {
       "model_id": "a485896fc30b4f29802783137933cfc1",
       "version_major": 2,
       "version_minor": 0
      },
      "text/plain": [
       "VBox()"
      ]
     },
     "metadata": {},
     "output_type": "display_data"
    },
    {
     "data": {
      "application/vnd.jupyter.widget-view+json": {
       "model_id": "",
       "version_major": 2,
       "version_minor": 0
      },
      "text/plain": [
       "FloatProgress(value=0.0, bar_style='info', description='Progress:', layout=Layout(height='25px', width='50%'),…"
      ]
     },
     "metadata": {},
     "output_type": "display_data"
    },
    {
     "name": "stdout",
     "output_type": "stream",
     "text": [
      "+-------------------+--------+\n",
      "|category           |count   |\n",
      "+-------------------+--------+\n",
      "|actor              |13443688|\n",
      "|self               |10562296|\n",
      "|actress            |10492210|\n",
      "|writer             |8495903 |\n",
      "|director           |7006843 |\n",
      "|producer           |3944711 |\n",
      "|cinematographer    |2068164 |\n",
      "|composer           |2014049 |\n",
      "|editor             |2012800 |\n",
      "|archive_footage    |404581  |\n",
      "|production_designer|383761  |\n",
      "|archive_sound      |4794    |\n",
      "+-------------------+--------+"
     ]
    }
   ],
   "source": [
    "# Complete\n",
    "# Counts of each category\n",
    "count_each_category_principle = principle.groupBy(\"category\").count()\n",
    "\n",
    "# Sort by count descending\n",
    "count_each_category_principle = count_each_category_principle.orderBy(col(\"count\").desc())\n",
    "\n",
    "# Display\n",
    "count_each_category_principle.show(truncate=False)"
   ]
  },
  {
   "cell_type": "markdown",
   "id": "f8671889",
   "metadata": {},
   "source": [
    "### Bar Chart of Top Job Categories\n",
    "\n",
    "With this data available, let us now build a barchart of the top 5 categories. \n",
    "\n",
    "**HINT**: don't forget about the matplotlib magic!\n",
    "\n",
    "```\n",
    "%matplot plt\n",
    "```"
   ]
  },
  {
   "cell_type": "code",
   "execution_count": 62,
   "id": "24b8e979-7033-49f2-bc19-5b67e0fe177b",
   "metadata": {
    "execution": {
     "iopub.execute_input": "2024-05-13T18:28:44.655418Z",
     "iopub.status.busy": "2024-05-13T18:28:44.655113Z",
     "iopub.status.idle": "2024-05-13T18:29:26.030646Z",
     "shell.execute_reply": "2024-05-13T18:29:26.029809Z",
     "shell.execute_reply.started": "2024-05-13T18:28:44.655393Z"
    },
    "tags": []
   },
   "outputs": [
    {
     "data": {
      "application/vnd.jupyter.widget-view+json": {
       "model_id": "9c8b6a90e0ca4c8faf57cb2be41aea7c",
       "version_major": 2,
       "version_minor": 0
      },
      "text/plain": [
       "VBox()"
      ]
     },
     "metadata": {},
     "output_type": "display_data"
    },
    {
     "data": {
      "application/vnd.jupyter.widget-view+json": {
       "model_id": "",
       "version_major": 2,
       "version_minor": 0
      },
      "text/plain": [
       "FloatProgress(value=0.0, bar_style='info', description='Progress:', layout=Layout(height='25px', width='50%'),…"
      ]
     },
     "metadata": {},
     "output_type": "display_data"
    },
    {
     "data": {
      "image/png": "[encoded data removed]",
      "text/plain": [
       "<IPython.core.display.Image object>"
      ]
     },
     "metadata": {},
     "output_type": "display_data"
    }
   ],
   "source": [
    "# Top five categories\n",
    "job_categories = principle.groupBy(\"category\").count().orderBy(col(\"count\").desc()).limit(5)\n",
    "\n",
    "# The Bar Plot\n",
    "job_categories_pd = job_categories.toPandas()\n",
    "plt.figure(figsize=(10, 6))\n",
    "job_categories_pd.plot.bar(x='category', y='count', title='Top Job Categories', color='orange', rot=15)\n",
    "plt.subplots_adjust(bottom=0.2)\n",
    "plt.ylabel('Count')\n",
    "plt.xlabel('Job Categories')\n",
    "\n",
    "# Magic\n",
    "%matplot plt"
   ]
  },
  {
   "cell_type": "markdown",
   "id": "e54dd8ef-f32a-4e61-aab4-54aadd71eb58",
   "metadata": {},
   "source": [
    "You do not have to match the color and the figure size but all other aspects of the graph should be matched."
   ]
  },
  {
   "cell_type": "markdown",
   "id": "a4436c54",
   "metadata": {
    "tags": []
   },
   "source": [
    "# PART 4 - Answer to the following questions:"
   ]
  },
  {
   "cell_type": "markdown",
   "id": "4c531a7b-8289-4784-825b-fabad415090b",
   "metadata": {},
   "source": [
    "1) You will need to join tables to answer the following questions. Not every question will require four tables. \n",
    "2) Your code should meet all the requirements asked in the questions.\n",
    "3) Your code should be generalizable enough for any given arguments."
   ]
  },
  {
   "cell_type": "markdown",
   "id": "08f889b6-79c0-47ab-97de-51fd67165caa",
   "metadata": {},
   "source": [
    "## 1) Provide ratings for the movies from the Harry Potter franchise."
   ]
  },
  {
   "cell_type": "code",
   "execution_count": 36,
   "id": "137a4934-76fd-4be7-b4b5-110326ed6a09",
   "metadata": {
    "execution": {
     "iopub.execute_input": "2024-05-13T18:05:41.320575Z",
     "iopub.status.busy": "2024-05-13T18:05:41.319973Z",
     "iopub.status.idle": "2024-05-13T18:05:54.703708Z",
     "shell.execute_reply": "2024-05-13T18:05:54.702828Z",
     "shell.execute_reply.started": "2024-05-13T18:05:41.320537Z"
    },
    "tags": []
   },
   "outputs": [
    {
     "data": {
      "application/vnd.jupyter.widget-view+json": {
       "model_id": "f3a828f153fe4adda8c1f306abea04af",
       "version_major": 2,
       "version_minor": 0
      },
      "text/plain": [
       "VBox()"
      ]
     },
     "metadata": {},
     "output_type": "display_data"
    },
    {
     "data": {
      "application/vnd.jupyter.widget-view+json": {
       "model_id": "",
       "version_major": 2,
       "version_minor": 0
      },
      "text/plain": [
       "FloatProgress(value=0.0, bar_style='info', description='Progress:', layout=Layout(height='25px', width='50%'),…"
      ]
     },
     "metadata": {},
     "output_type": "display_data"
    },
    {
     "name": "stdout",
     "output_type": "stream",
     "text": [
      "+--------------------------------------------+----------+\n",
      "|Harry Potter Movies                         |Avg Rating|\n",
      "+--------------------------------------------+----------+\n",
      "|Harry Potter and the Deathly Hallows: Part 2|8.1       |\n",
      "|Harry Potter and the Prisoner of Azkaban    |7.9       |\n",
      "|Harry Potter and the Goblet of Fire         |7.7       |\n",
      "|Harry Potter and the Deathly Hallows: Part 1|7.7       |\n",
      "|Harry Potter and the Sorcerer's Stone       |7.6       |\n",
      "|Harry Potter and the Half-Blood Prince      |7.6       |\n",
      "|Harry Potter and the Order of the Phoenix   |7.5       |\n",
      "|Harry Potter and the Chamber of Secrets     |7.4       |\n",
      "+--------------------------------------------+----------+\n",
      "only showing top 8 rows"
     ]
    }
   ],
   "source": [
    "# Complete\n",
    "# Join title and rating\n",
    "title_rating_joined_number_1 = title.join(rating, on=\"tconst\", how=\"inner\")\n",
    "\n",
    "# Filter for Movies only\n",
    "title_rating_joined_number_1 = title_rating_joined_number_1.filter(col(\"titleType\") == \"movie\")\n",
    "\n",
    "# Filter for Harry Potter only (there are additional \"movies\" not in the solution output) unsure how to filter by franchise?\n",
    "title_rating_joined_number_1 = title_rating_joined_number_1.filter(col(\"primaryTitle\").contains(\"Harry Potter and the\"))\n",
    "\n",
    "# Select primaryTitle and averageRating columns\n",
    "title_rating_joined_number_1 = title_rating_joined_number_1.select(\"primaryTitle\", \"averageRating\")\n",
    "\n",
    "# Rename primaryTitle and averageRating columns to Harry Potter Movies and Avg Rating\n",
    "title_rating_joined_number_1 = title_rating_joined_number_1.withColumnRenamed(\"primaryTitle\", \"Harry Potter Movies\").withColumnRenamed(\"averageRating\", \"Avg Rating\")\n",
    "\n",
    "# Sort the Avg Rating column by descending\n",
    "title_rating_joined_number_1 = title_rating_joined_number_1.sort(col(\"Avg Rating\").desc())\n",
    "\n",
    "# Display the Harry Potter Movies and their avg ratings (one additional movie, different from solution output)\n",
    "title_rating_joined_number_1.show(8,truncate=False)"
   ]
  },
  {
   "cell_type": "markdown",
   "id": "5c4527e8-d48d-48be-bc43-2e22708c18a9",
   "metadata": {
    "tags": []
   },
   "source": [
    "## 2) List the films featuring Cillian Murphy as an actor since 2007, including their ratings."
   ]
  },
  {
   "cell_type": "code",
   "execution_count": 37,
   "id": "9b218b1f-b61c-4332-a1be-58bf8effe0c0",
   "metadata": {
    "execution": {
     "iopub.execute_input": "2024-05-13T18:05:54.705083Z",
     "iopub.status.busy": "2024-05-13T18:05:54.704835Z",
     "iopub.status.idle": "2024-05-13T18:07:06.169543Z",
     "shell.execute_reply": "2024-05-13T18:07:06.168632Z",
     "shell.execute_reply.started": "2024-05-13T18:05:54.705059Z"
    },
    "tags": []
   },
   "outputs": [
    {
     "data": {
      "application/vnd.jupyter.widget-view+json": {
       "model_id": "092026f287e64f06b4bcfe08c1195186",
       "version_major": 2,
       "version_minor": 0
      },
      "text/plain": [
       "VBox()"
      ]
     },
     "metadata": {},
     "output_type": "display_data"
    },
    {
     "data": {
      "application/vnd.jupyter.widget-view+json": {
       "model_id": "",
       "version_major": 2,
       "version_minor": 0
      },
      "text/plain": [
       "FloatProgress(value=0.0, bar_style='info', description='Progress:', layout=Layout(height='25px', width='50%'),…"
      ]
     },
     "metadata": {},
     "output_type": "display_data"
    },
    {
     "name": "stdout",
     "output_type": "stream",
     "text": [
      "+-----------------------+----+----------+\n",
      "|Movies                 |Year|Avg Rating|\n",
      "+-----------------------+----+----------+\n",
      "|Small Things Like These|2024|7.2       |\n",
      "|Oppenheimer            |2023|8.4       |\n",
      "|Kensuke's Kingdom      |2023|7.1       |\n",
      "|A Quiet Place Part II  |2020|7.2       |\n",
      "|Anna                   |2019|6.6       |\n",
      "|Anthropoid             |2016|7.2       |\n",
      "|Free Fire              |2016|6.3       |\n",
      "|In the Heart of the Sea|2015|6.9       |\n",
      "|Transcendence          |2014|6.2       |\n",
      "|Aloft                  |2014|5.3       |\n",
      "|Red Lights             |2012|6.2       |\n",
      "|Retreat                |2011|5.8       |\n",
      "|In Time                |2011|6.7       |\n",
      "|Peacock                |2010|6.2       |\n",
      "|Perrier's Bounty       |2009|6.3       |\n",
      "|Waveriders             |2008|6.8       |\n",
      "|Sunshine               |2007|7.2       |\n",
      "|Watching the Detectives|2007|6.2       |\n",
      "+-----------------------+----+----------+"
     ]
    }
   ],
   "source": [
    "# Complete\n",
    "# Join name and principle on nconst\n",
    "num_2_joined = name.join(principle, on=\"nconst\", how=\"inner\")\n",
    "\n",
    "# Join title on tconst\n",
    "num_2_joined = num_2_joined.join(title, on=\"tconst\", how=\"inner\")\n",
    "\n",
    "# Join rating on tconst\n",
    "num_2_joined = num_2_joined.join(rating, on=\"tconst\", how=\"inner\")\n",
    "\n",
    "# Find Actors\n",
    "find_actor = num_2_joined.filter(col(\"category\") == \"actor\")\n",
    "\n",
    "# Find Cillian \n",
    "find_cillian = find_actor.filter(col(\"primaryName\") == \"Cillian Murphy\")\n",
    "\n",
    "# Filter for Films (Movies)\n",
    "find_cillian = find_cillian.filter(col(\"titleType\") == \"movie\")\n",
    "\n",
    "# Filter for years including and after 2007\n",
    "find_cillian = find_cillian.filter(col(\"startYear\") >= 2007)\n",
    "\n",
    "# Sort startYear by descending\n",
    "find_cillian = find_cillian.sort(col(\"startYear\").desc())\n",
    "\n",
    "# Select columns for result\n",
    "result_df = find_cillian.select(\"primaryTitle\", \"startYear\", \"averageRating\")\n",
    "\n",
    "# Rename columns\n",
    "result_df = result_df.withColumnRenamed(\"primaryTitle\", \"Movies\").withColumnRenamed(\"startYear\", \"Year\").withColumnRenamed(\"averageRating\", \"Avg Rating\")\n",
    "\n",
    "# Display Result\n",
    "result_df.show(truncate=False)"
   ]
  },
  {
   "cell_type": "markdown",
   "id": "7fe49c7b-c432-4353-9d87-28b1f97470e7",
   "metadata": {},
   "source": [
    "## 3) How many movies has Zendaya featured as an actress in each year?"
   ]
  },
  {
   "cell_type": "code",
   "execution_count": 38,
   "id": "9162ea1b-2085-4021-9412-3a7e01dfed2a",
   "metadata": {
    "execution": {
     "iopub.execute_input": "2024-05-13T18:07:06.170872Z",
     "iopub.status.busy": "2024-05-13T18:07:06.170634Z",
     "iopub.status.idle": "2024-05-13T18:08:15.639961Z",
     "shell.execute_reply": "2024-05-13T18:08:15.639090Z",
     "shell.execute_reply.started": "2024-05-13T18:07:06.170849Z"
    },
    "tags": []
   },
   "outputs": [
    {
     "data": {
      "application/vnd.jupyter.widget-view+json": {
       "model_id": "eedddc382fbe4086bccc1a03d83acb71",
       "version_major": 2,
       "version_minor": 0
      },
      "text/plain": [
       "VBox()"
      ]
     },
     "metadata": {},
     "output_type": "display_data"
    },
    {
     "data": {
      "application/vnd.jupyter.widget-view+json": {
       "model_id": "",
       "version_major": 2,
       "version_minor": 0
      },
      "text/plain": [
       "FloatProgress(value=0.0, bar_style='info', description='Progress:', layout=Layout(height='25px', width='50%'),…"
      ]
     },
     "metadata": {},
     "output_type": "display_data"
    },
    {
     "name": "stdout",
     "output_type": "stream",
     "text": [
      "+---------+-----+\n",
      "|startYear|count|\n",
      "+---------+-----+\n",
      "|     2024|    2|\n",
      "|     2021|    3|\n",
      "|     2018|    2|\n",
      "|     2017|    1|\n",
      "+---------+-----+"
     ]
    }
   ],
   "source": [
    "# Complete\n",
    "# Join name and principle on nconst\n",
    "num_3_joined = name.join(principle, on=\"nconst\", how=\"inner\")\n",
    "\n",
    "# Join title on tconst\n",
    "num_3_joined = num_3_joined.join(title, on=\"tconst\", how=\"inner\")\n",
    "\n",
    "# Find zendaya\n",
    "find_zendaya = num_3_joined.filter(col(\"primaryName\") == \"Zendaya\")\n",
    "\n",
    "# Make sure it's the actress Zendaya\n",
    "find_zendaya = find_zendaya.filter(col(\"category\") == \"actress\")\n",
    "\n",
    "# Filter for Movies\n",
    "find_zendaya = find_zendaya.filter(col(\"titleType\") == \"movie\")\n",
    "\n",
    "# Group by year\n",
    "find_zendaya = find_zendaya.groupBy(\"startYear\").count()\n",
    "\n",
    "# remove null values from startYear\n",
    "find_zendaya = find_zendaya.filter(col(\"startYear\") != '\\\\N')\n",
    "\n",
    "# Sort by year\n",
    "find_zendaya = find_zendaya.sort(col(\"startYear\").desc())\n",
    "\n",
    "# Display result\n",
    "find_zendaya.show()"
   ]
  },
  {
   "cell_type": "markdown",
   "id": "cc4ca3b8-aff9-430e-b9a2-8dc7aee52af4",
   "metadata": {},
   "source": [
    "## 4) Which movies, released in 2023, have an average rating of 10?"
   ]
  },
  {
   "cell_type": "code",
   "execution_count": 39,
   "id": "bf179f5d-c930-4690-abf4-8eb19bd2d848",
   "metadata": {
    "execution": {
     "iopub.execute_input": "2024-05-13T18:08:15.641836Z",
     "iopub.status.busy": "2024-05-13T18:08:15.641382Z",
     "iopub.status.idle": "2024-05-13T18:08:31.007634Z",
     "shell.execute_reply": "2024-05-13T18:08:31.006937Z",
     "shell.execute_reply.started": "2024-05-13T18:08:15.641800Z"
    },
    "tags": []
   },
   "outputs": [
    {
     "data": {
      "application/vnd.jupyter.widget-view+json": {
       "model_id": "01d688b99cf04315a8b79ef1f0434092",
       "version_major": 2,
       "version_minor": 0
      },
      "text/plain": [
       "VBox()"
      ]
     },
     "metadata": {},
     "output_type": "display_data"
    },
    {
     "data": {
      "application/vnd.jupyter.widget-view+json": {
       "model_id": "",
       "version_major": 2,
       "version_minor": 0
      },
      "text/plain": [
       "FloatProgress(value=0.0, bar_style='info', description='Progress:', layout=Layout(height='25px', width='50%'),…"
      ]
     },
     "metadata": {},
     "output_type": "display_data"
    },
    {
     "name": "stdout",
     "output_type": "stream",
     "text": [
      "+----------------------------------------------+\n",
      "|Movies                                        |\n",
      "+----------------------------------------------+\n",
      "|Prince Oak Oakleyski Starring Supremacy       |\n",
      "|Relentless Ride                               |\n",
      "|Vida de Atriz                                 |\n",
      "|Freak City Skates the Plaza                   |\n",
      "|Swapnaloka                                    |\n",
      "|Eden's Last Chance                            |\n",
      "|When You Become Me                            |\n",
      "|Praveena                                      |\n",
      "|Giuseppe Garibaldi eroe leggendario           |\n",
      "|Debate Wars                                   |\n",
      "|Money Man: An Original Documentary            |\n",
      "|Sisters & The Shrink 4                        |\n",
      "|A Maiden's Tale                               |\n",
      "|Le Donne di Pasolini                          |\n",
      "|Hamida - En afghansk filmstjärna från Alingsås|\n",
      "|Non Solo Barzellette                          |\n",
      "|Odyssey                                       |\n",
      "|La Nueve, Heroes en el olvido                 |\n",
      "+----------------------------------------------+"
     ]
    }
   ],
   "source": [
    "# Complete\n",
    "# Join title and ratings\n",
    "number_four_df_join_title_rating = title.join(rating, on=\"tconst\", how=\"inner\")\n",
    "\n",
    "# Filter for start year 2023\n",
    "number_four_df_join_title_rating_2023 = number_four_df_join_title_rating.filter(col(\"startYear\") == 2023)\n",
    "\n",
    "# Filter for Movies only\n",
    "number_four_df_join_title_rating_2023_movies = number_four_df_join_title_rating_2023.filter(col(\"titleType\") == \"movie\")\n",
    "\n",
    "# Filter for Average Rating of 10\n",
    "number_four_df_join_title_rating_2023_movies_10 = number_four_df_join_title_rating_2023_movies.filter(col(\"averageRating\") == 10.0)\n",
    "\n",
    "# Select the Movie column\n",
    "movies_released_in_2023_with_avg_rating_10 = number_four_df_join_title_rating_2023_movies_10.select(\"primaryTitle\")\n",
    "\n",
    "# Rename the Movie column\n",
    "movies_released_in_2023_with_avg_rating_10 = movies_released_in_2023_with_avg_rating_10.withColumnRenamed(\"primaryTitle\", \"Movies\")\n",
    "\n",
    "# Show the Movie column\n",
    "movies_released_in_2023_with_avg_rating_10.show(truncate=False)"
   ]
  },
  {
   "cell_type": "markdown",
   "id": "230da1d4-5cde-4f3c-9aed-bb88c7aa8d6a",
   "metadata": {
    "execution": {
     "iopub.execute_input": "2024-03-12T19:07:22.538196Z",
     "iopub.status.busy": "2024-03-12T19:07:22.537886Z",
     "iopub.status.idle": "2024-03-12T19:07:22.582512Z",
     "shell.execute_reply": "2024-03-12T19:07:22.581837Z",
     "shell.execute_reply.started": "2024-03-12T19:07:22.538169Z"
    },
    "tags": []
   },
   "source": [
    "## 5) At what age did Audrey Hepburn, known for her role in the movie 'Breakfast at Tiffany's,' pass away?"
   ]
  },
  {
   "cell_type": "code",
   "execution_count": 40,
   "id": "c296c8d1-2651-474c-a210-27f3962b9ac3",
   "metadata": {
    "execution": {
     "iopub.execute_input": "2024-05-13T18:08:31.008984Z",
     "iopub.status.busy": "2024-05-13T18:08:31.008718Z",
     "iopub.status.idle": "2024-05-13T18:08:54.332369Z",
     "shell.execute_reply": "2024-05-13T18:08:54.331560Z",
     "shell.execute_reply.started": "2024-05-13T18:08:31.008958Z"
    },
    "tags": []
   },
   "outputs": [
    {
     "data": {
      "application/vnd.jupyter.widget-view+json": {
       "model_id": "beb04e7bed454609ba95a865545465cf",
       "version_major": 2,
       "version_minor": 0
      },
      "text/plain": [
       "VBox()"
      ]
     },
     "metadata": {},
     "output_type": "display_data"
    },
    {
     "data": {
      "application/vnd.jupyter.widget-view+json": {
       "model_id": "",
       "version_major": 2,
       "version_minor": 0
      },
      "text/plain": [
       "FloatProgress(value=0.0, bar_style='info', description='Progress:', layout=Layout(height='25px', width='50%'),…"
      ]
     },
     "metadata": {},
     "output_type": "display_data"
    },
    {
     "name": "stdout",
     "output_type": "stream",
     "text": [
      "+--------------+--------------+\n",
      "|Name          |Age at Passing|\n",
      "+--------------+--------------+\n",
      "|Audrey Hepburn|64            |\n",
      "+--------------+--------------+"
     ]
    }
   ],
   "source": [
    "# Complete\n",
    "\n",
    "# Explode knownForTitles\n",
    "name_exploded_number_five = name.withColumn('knownForTitles', explode(split('knownForTitles', \",\")))\n",
    "\n",
    "# Rename knownfortitles to tconst\n",
    "name_exploded_number_five = name_exploded_number_five.withColumnRenamed('knownForTitles', 'tconst')\n",
    "\n",
    "# Join name_exploded_number_five with title\n",
    "name_exploded_number_five_title = name_exploded_number_five.join(title, on=\"tconst\", how=\"inner\")\n",
    "\n",
    "# Make sure it's the unique Audrey based on criteria in the problem\n",
    "filter_for_audrey = name_exploded_number_five_title.filter(col(\"primaryName\") == \"Audrey Hepburn\")\n",
    "filter_for_audrey_title = filter_for_audrey.filter(col(\"titleType\") == \"movie\")\n",
    "filter_for_audrey_title_primary = filter_for_audrey_title.filter(col(\"primaryTitle\") == \"Breakfast at Tiffany's\")\n",
    "\n",
    "# Calculate the age by subtracting the birth from death also cast as integer\n",
    "age_at_death_df = filter_for_audrey_title_primary.withColumn(\"age_at_death\", col(\"deathYear\").cast(\"int\") - col(\"birthYear\").cast(\"int\"))\n",
    "\n",
    "# Grab the columns and rename them\n",
    "age_at_death_df = age_at_death_df.select(\"primaryName\",\"age_at_death\")\n",
    "age_at_death_df = age_at_death_df.withColumnRenamed(\"primaryName\", \"Name\").withColumnRenamed(\"age_at_death\", \"Age at Passing\")\n",
    "age_at_death_df.show(truncate=False)"
   ]
  },
  {
   "cell_type": "markdown",
   "id": "01c35bd1-25f1-4f7c-8781-ee97277e5b31",
   "metadata": {},
   "source": [
    "## 6) What is the movie(s) with the highest average rating among those featuring Chris Evans, known for his role in 'Captain America: The First Avenger'?\n",
    "\n",
    "Write your code in a way that it finds and displays all movies with the highest rating, even if there's more than one. "
   ]
  },
  {
   "cell_type": "code",
   "execution_count": 63,
   "id": "1f61918d-249e-4f2e-af0b-7a7c13eed6be",
   "metadata": {
    "execution": {
     "iopub.execute_input": "2024-05-13T18:30:11.695262Z",
     "iopub.status.busy": "2024-05-13T18:30:11.694926Z",
     "iopub.status.idle": "2024-05-13T18:32:19.333947Z",
     "shell.execute_reply": "2024-05-13T18:32:19.333121Z",
     "shell.execute_reply.started": "2024-05-13T18:30:11.695231Z"
    },
    "tags": []
   },
   "outputs": [
    {
     "data": {
      "application/vnd.jupyter.widget-view+json": {
       "model_id": "56dc8429283141a1b4db3366dc045f6a",
       "version_major": 2,
       "version_minor": 0
      },
      "text/plain": [
       "VBox()"
      ]
     },
     "metadata": {},
     "output_type": "display_data"
    },
    {
     "data": {
      "application/vnd.jupyter.widget-view+json": {
       "model_id": "",
       "version_major": 2,
       "version_minor": 0
      },
      "text/plain": [
       "FloatProgress(value=0.0, bar_style='info', description='Progress:', layout=Layout(height='25px', width='50%'),…"
      ]
     },
     "metadata": {},
     "output_type": "display_data"
    },
    {
     "name": "stdout",
     "output_type": "stream",
     "text": [
      "+----------------------+------------------+\n",
      "|Movies                |Highest Avg Rating|\n",
      "+----------------------+------------------+\n",
      "|Avengers: Infinity War|8.4               |\n",
      "|Avengers: Endgame     |8.4               |\n",
      "+----------------------+------------------+"
     ]
    }
   ],
   "source": [
    "# Complete \n",
    "# join name and principle on nconst (2 tables)\n",
    "join_name_principle_number_6_df = name.join(principle, on=\"nconst\", how=\"inner\")\n",
    "\n",
    "# join title to the joined name_priciple_df on tconst (3 tables)\n",
    "title_number_6_df = title.join(join_name_principle_number_6_df, on=\"tconst\", how=\"inner\")\n",
    "\n",
    "# join ratings to the 3 tables (4 tables)\n",
    "rating_number_6_df = rating.join(title_number_6_df, on=\"tconst\", how=\"inner\")\n",
    "\n",
    "# Filter for Chris Evans and primaryTitle == \"Captain America: The First Avenger\"\n",
    "# find_chris_evans_unique_id = rating_number_6_df.filter((col(\"primaryTitle\") == \"Captain America: The First Avenger\") & (col(\"primaryName\") == \"Chris Evans\"))\n",
    "# find_chris_evans_unique_id_grab_nconst = find_chris_evans_unique_id.select(\"nconst\")\n",
    "# find_chris_evans_unique_id_grab_nconst.show()\n",
    "# nconst for chris evans unique id = nm0262635\n",
    "\n",
    "find_all_chris_evans_movies = rating_number_6_df.filter((col('nconst') == 'nm0262635') & (col('titleType') == 'movie'))\n",
    "\n",
    "#ranked_chris_evans_movies = find_all_chris_evans_movies.select(\"primaryTitle\", \"averageRating\").orderBy(col(\"averageRating\").desc())\n",
    "\n",
    "# Use functions to get the max average rating\n",
    "from pyspark.sql import functions as F\n",
    "max_rating = find_all_chris_evans_movies.agg(F.max(\"averageRating\").alias(\"maxRating\")).collect()[0]['maxRating']\n",
    "\n",
    "# Filter the DataFrame to show only rows with the maximum rating\n",
    "highest_rated_movies = find_all_chris_evans_movies.filter(F.col(\"averageRating\") == max_rating)\n",
    "\n",
    "# Show only the movies and Highest avgerageRating Columns\n",
    "highest_rated_movies = highest_rated_movies.select(\"primaryTitle\", \"averageRating\")\n",
    "highest_rated_movies = highest_rated_movies.withColumnRenamed(\"primaryTitle\", \"Movies\").withColumnRenamed(\"averageRating\", \"Highest Avg Rating\")\n",
    "highest_rated_movies.show(truncate=False)\n"
   ]
  },
  {
   "cell_type": "markdown",
   "id": "9001ac0a-4e85-428d-8c89-878bb7a2d01b",
   "metadata": {},
   "source": [
    "## 7) Among the movies in which Clint Eastwood, known for 'The Good, the Bad and the Ugly', and Harrison Ford, known for 'Raiders of the Lost Ark', have acted, who has the higher average rating?\n",
    "\n",
    "Hint: You will need to calculate the average rating across all movies for each actor."
   ]
  },
  {
   "cell_type": "code",
   "execution_count": 64,
   "id": "0bf482ba-092a-4be8-9dc7-007d7ac44900",
   "metadata": {
    "execution": {
     "iopub.execute_input": "2024-05-13T18:32:28.991417Z",
     "iopub.status.busy": "2024-05-13T18:32:28.990992Z",
     "iopub.status.idle": "2024-05-13T18:36:53.238849Z",
     "shell.execute_reply": "2024-05-13T18:36:53.238107Z",
     "shell.execute_reply.started": "2024-05-13T18:32:28.991377Z"
    },
    "tags": []
   },
   "outputs": [
    {
     "data": {
      "application/vnd.jupyter.widget-view+json": {
       "model_id": "49510119b6e145c9946179db0c30c16c",
       "version_major": 2,
       "version_minor": 0
      },
      "text/plain": [
       "VBox()"
      ]
     },
     "metadata": {},
     "output_type": "display_data"
    },
    {
     "data": {
      "application/vnd.jupyter.widget-view+json": {
       "model_id": "",
       "version_major": 2,
       "version_minor": 0
      },
      "text/plain": [
       "FloatProgress(value=0.0, bar_style='info', description='Progress:', layout=Layout(height='25px', width='50%'),…"
      ]
     },
     "metadata": {},
     "output_type": "display_data"
    },
    {
     "name": "stdout",
     "output_type": "stream",
     "text": [
      "The average rating of Harrison Ford is 6.83\n",
      "The average rating of Clint Eastwood is 6.86\n",
      "Clint Eastwood has a higher average rating."
     ]
    }
   ],
   "source": [
    "# Complete\n",
    "# Join name and principles on nconst just to get tconst to join the other tables with\n",
    "name_principle_number_7_df = name.join(principle, on=\"nconst\", how=\"inner\")\n",
    "\n",
    "# Join title on tconst now that i have it\n",
    "title_number_7_df = name_principle_number_7_df.join(title, on=\"tconst\", how=\"inner\")\n",
    "\n",
    "# Lastly, join ratings on tconst\n",
    "rating_number_7_df = title_number_7_df.join(rating, on=\"tconst\", how=\"inner\")\n",
    "#rating_number_7_df.show()\n",
    "\n",
    "# Get Clint Eastwood nconst\n",
    "get_clint = rating_number_7_df.filter((col(\"primaryName\") == \"Clint Eastwood\") & (col(\"primaryTitle\") == \"The Good, the Bad and the Ugly\"))\n",
    "get_clint_unique_id = get_clint.select(\"nconst\")\n",
    "# get_clint_unique_id.show() nconst = nm0000142\n",
    "\n",
    "# Get Harrison Ford nconst\n",
    "get_harrison = rating_number_7_df.filter((col(\"primaryName\") == \"Harrison Ford\") & (col(\"primaryTitle\") == \"Raiders of the Lost Ark\"))\n",
    "get_harrison_unique_id = get_harrison.select(\"nconst\")\n",
    "#get_harrison_unique_id.show() nconst = nm0000148\n",
    "\n",
    "# filter for harrison movies only\n",
    "get_harrison_movies = rating_number_7_df.filter((col(\"titleType\") == \"movie\") & (col(\"nconst\") == \"nm0000148\") & (col(\"category\") == \"actor\"))\n",
    "#get_harrison_movies.show(30)\n",
    "\n",
    "# filter for Clint movies only\n",
    "get_clint_movies = rating_number_7_df.filter((col(\"titleType\") == \"movie\") & (col(\"nconst\") == \"nm0000142\") & (col(\"category\") == \"actor\"))\n",
    "#get_clint_movies.show(30)\n",
    "\n",
    "# get sum of averageRating column\n",
    "clint_average_rating_sum = get_clint_movies.agg({\"averageRating\": \"sum\"}).collect()[0][0]\n",
    "\n",
    "# get count of averageRating column\n",
    "clint_average_rating_count = get_clint_movies.agg({\"averageRating\": \"count\"}).collect()[0][0]\n",
    "\n",
    "# get sum of averageRating column for harrison\n",
    "harrison_average_rating_sum = get_harrison_movies.agg({\"averageRating\": \"sum\"}).collect()[0][0]\n",
    "\n",
    "# get count of averageRating column for harrison\n",
    "harrison_average_rating_count = get_harrison_movies.agg({\"averageRating\": \"count\"}).collect()[0][0]\n",
    "\n",
    "# calculate average rating for harrison\n",
    "harrison_average_rating = harrison_average_rating_sum / harrison_average_rating_count\n",
    "print(f\"The average rating of Harrison Ford is {harrison_average_rating:.2f}\")\n",
    "\n",
    "# calculate average rating for clint\n",
    "clint_average_rating = clint_average_rating_sum / clint_average_rating_count\n",
    "print(f\"The average rating of Clint Eastwood is {clint_average_rating:.2f}\")\n",
    "\n",
    "if harrison_average_rating > clint_average_rating:\n",
    "    print(\"Harrison Ford has the higher average rating.\")\n",
    "elif clint_average_rating > harrison_average_rating:\n",
    "    print(\"Clint Eastwood has a higher average rating.\")"
   ]
  },
  {
   "cell_type": "markdown",
   "id": "17273925",
   "metadata": {},
   "source": [
    "## 8) What are the movies in which both Johnny Depp and Helena Bonham Carter have acted together?"
   ]
  },
  {
   "cell_type": "code",
   "execution_count": 65,
   "id": "dfced2cd",
   "metadata": {
    "execution": {
     "iopub.execute_input": "2024-05-13T18:36:53.240188Z",
     "iopub.status.busy": "2024-05-13T18:36:53.239958Z",
     "iopub.status.idle": "2024-05-13T18:39:12.938082Z",
     "shell.execute_reply": "2024-05-13T18:39:12.937378Z",
     "shell.execute_reply.started": "2024-05-13T18:36:53.240166Z"
    },
    "tags": []
   },
   "outputs": [
    {
     "data": {
      "application/vnd.jupyter.widget-view+json": {
       "model_id": "88dff2782e4a4bd5a3d69d3a7bceb477",
       "version_major": 2,
       "version_minor": 0
      },
      "text/plain": [
       "VBox()"
      ]
     },
     "metadata": {},
     "output_type": "display_data"
    },
    {
     "data": {
      "application/vnd.jupyter.widget-view+json": {
       "model_id": "",
       "version_major": 2,
       "version_minor": 0
      },
      "text/plain": [
       "FloatProgress(value=0.0, bar_style='info', description='Progress:', layout=Layout(height='25px', width='50%'),…"
      ]
     },
     "metadata": {},
     "output_type": "display_data"
    },
    {
     "name": "stdout",
     "output_type": "stream",
     "text": [
      "+----------------------------------------------+\n",
      "|Common Movies                                 |\n",
      "+----------------------------------------------+\n",
      "|Dark Shadows                                  |\n",
      "|Sweeney Todd: The Demon Barber of Fleet Street|\n",
      "|Alice Through the Looking Glass               |\n",
      "|Alice in Wonderland                           |\n",
      "|Charlie and the Chocolate Factory             |\n",
      "|Corpse Bride                                  |\n",
      "+----------------------------------------------+"
     ]
    }
   ],
   "source": [
    "# Complete\n",
    "\n",
    "# Join Name and Principle on nconst\n",
    "name_principle_number_8_df = name.join(principle, on=\"nconst\", how=\"inner\")\n",
    "\n",
    "# Join Title on tconst\n",
    "title_number_8_df = name_principle_number_8_df.join(title, on=\"tconst\", how=\"inner\")\n",
    "\n",
    "# get_johnny_depp_unique_id = title_number_8_df.filter((col(\"primaryName\") == \"Johnny Depp\") & (col(\"category\") == \"actor\"))\n",
    "# johnny_nconst = get_johnny_depp_unique_id.select(\"nconst\", \"primaryName\")\n",
    "# nm0000136\n",
    "\n",
    "# get_helena_bonham_unique_id = title_number_8_df.filter((col(\"primaryName\") == \"Helena Bonham Carter\") & (col(\"category\") == \"actress\") & (col(\"titleType\") == \"movie\"))\n",
    "# get_helena_bonham_unique_id = get_helena_bonham_unique_id.select(\"nconst\", \"primaryName\")\n",
    "# nm0000307\n",
    "\n",
    "# Filter and select relevant columns from the original DataFrame, renaming 'primaryTitle'\n",
    "helena_movies = title_number_8_df.filter((col(\"nconst\") == \"nm0000307\") & (col(\"category\") == \"actress\") & (col(\"titleType\") == \"movie\")).select(\"tconst\", col(\"primaryTitle\").alias(\"helena_primaryTitle\"))\n",
    "johnny_movies = title_number_8_df.filter((col(\"nconst\") == \"nm0000136\") & (col(\"category\") == \"actor\") & (col(\"titleType\") == \"movie\")).select(\"tconst\", col(\"primaryTitle\").alias(\"johnny_primaryTitle\"))\n",
    "\n",
    "# Join the DataFrames on 'tconst' while keeping the renamed 'primaryTitle' columns\n",
    "join_johnny_helena = helena_movies.join(johnny_movies, on=\"tconst\", how=\"inner\")\n",
    "\n",
    "# Display the resulting DataFrame\n",
    "#join_johnny_helena.show()\n",
    "\n",
    "# Select just one column to show\n",
    "final_movies_df = join_johnny_helena.select(col(\"helena_primaryTitle\").alias(\"Common Movies\"))\n",
    "final_movies_df.show(truncate=False)\n",
    "\n"
   ]
  },
  {
   "cell_type": "markdown",
   "id": "c34feacd-3185-4dc1-b11e-f74c0545adcb",
   "metadata": {},
   "source": [
    "## 9) Find the top 5 longest movies directed by Martin Scorsese, known for his work \"Gangs of New York\"."
   ]
  },
  {
   "cell_type": "code",
   "execution_count": 66,
   "id": "47e356d3-71c4-4969-8bc3-6c377fe88d8b",
   "metadata": {
    "execution": {
     "iopub.execute_input": "2024-05-13T18:39:12.939719Z",
     "iopub.status.busy": "2024-05-13T18:39:12.939435Z",
     "iopub.status.idle": "2024-05-13T18:40:16.383286Z",
     "shell.execute_reply": "2024-05-13T18:40:16.382250Z",
     "shell.execute_reply.started": "2024-05-13T18:39:12.939691Z"
    },
    "tags": []
   },
   "outputs": [
    {
     "data": {
      "application/vnd.jupyter.widget-view+json": {
       "model_id": "d44705acb5d547f6be948937cb38f5dd",
       "version_major": 2,
       "version_minor": 0
      },
      "text/plain": [
       "VBox()"
      ]
     },
     "metadata": {},
     "output_type": "display_data"
    },
    {
     "data": {
      "application/vnd.jupyter.widget-view+json": {
       "model_id": "",
       "version_major": 2,
       "version_minor": 0
      },
      "text/plain": [
       "FloatProgress(value=0.0, bar_style='info', description='Progress:', layout=Layout(height='25px', width='50%'),…"
      ]
     },
     "metadata": {},
     "output_type": "display_data"
    },
    {
     "name": "stdout",
     "output_type": "stream",
     "text": [
      "+---------------------------------------------+--------------+\n",
      "|primaryTitle                                 |runtimeMinutes|\n",
      "+---------------------------------------------+--------------+\n",
      "|The Irishman                                 |209           |\n",
      "|George Harrison: Living in the Material World|208           |\n",
      "|Killers of the Flower Moon                   |206           |\n",
      "|The Wolf of Wall Street                      |180           |\n",
      "|Casino                                       |178           |\n",
      "+---------------------------------------------+--------------+"
     ]
    }
   ],
   "source": [
    "# Complete\n",
    "\n",
    "# Join name and principle on nconst\n",
    "name_principle_number_9_df = name.join(principle, on=\"nconst\", how=\"inner\")\n",
    "\n",
    "# join title on tconst\n",
    "title_number_9_df = name_principle_number_9_df.join(title, on=\"tconst\", how=\"inner\")\n",
    "\n",
    "# Find the nconst of Martin Scorsese, the director of \"Gangs of New York\"\n",
    "#scorsese_nconst = title_number_9_df.filter((col(\"primaryTitle\") == \"Gangs of New York\") & (col(\"primaryName\") == \"Martin Scorsese\")).select(\"nconst\")\n",
    "#scorsese_nconst = nm0000217\n",
    "\n",
    "# Filter for Martin Scorsese movies only\n",
    "scorsese_movies = title_number_9_df.filter((col(\"nconst\") == \"nm0000217\") & (col(\"category\") == \"director\") & (col(\"titleType\") == \"movie\"))\n",
    "#scorsese_movies.show()\n",
    "\n",
    "# Cast runtimeMinutes to integer\n",
    "scorsese_movies = scorsese_movies.withColumn(\"runtimeMinutes\", col(\"runtimeMinutes\").cast(\"int\"))\n",
    "\n",
    "# Sort runtime by descending \n",
    "top_five = scorsese_movies.orderBy(col(\"runtimeMinutes\").desc())\n",
    "\n",
    "# Grab the two columns: title and runtime, limit the output to 5\n",
    "top_five_movies_directed_by_martin = top_five.select(\"primaryTitle\", \"runtimeMinutes\").limit(5)\n",
    "\n",
    "# Show the top five titles and runtime minutes\n",
    "top_five_movies_directed_by_martin.show(truncate=False)"
   ]
  }
 ],
 "metadata": {
  "kernelspec": {
   "display_name": "PySpark",
   "language": "python",
   "name": "pysparkkernel"
  },
  "language_info": {
   "codemirror_mode": {
    "name": "python",
    "version": 3
   },
   "file_extension": ".py",
   "mimetype": "text/x-python",
   "name": "pyspark",
   "pygments_lexer": "python3"
  }
 },
 "nbformat": 4,
 "nbformat_minor": 5
}
